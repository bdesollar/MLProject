{
 "cells": [
  {
   "cell_type": "markdown",
   "metadata": {},
   "source": [
    "# Used Car Regression\n",
    "**ML Project 1 - Spring 2022**\n",
    "\n",
    "Collaborators: Ben DeSollar and Matt McDonell\n",
    "\n",
    "\n",
    "Descriptions: The first part should be a description which models/classifiers/regressors achieved the best \n",
    "    results with your datasets datasets, and what you did to improve those results along the way.\n",
    "\n",
    "    - Through research we found that a called GradientBoostingRegressor worked the best after testing a couple different model including\n",
    "    KNeighborsRegressor, Lasso, Ridge, and DecisionTreeRegressor. We improved our results by modifying our feature selection to include as many features as we \n",
    "    could to help predict the best values. Things like weight and Deaft year did not seem to be as important as the draft round and PIE. By modifying our featuiues \n",
    "    during testing we were able to find the best model predictions."
   ]
  },
  {
   "cell_type": "markdown",
   "metadata": {},
   "source": [
    "### Step 1\n",
    "Import the required packages and frameworks."
   ]
  },
  {
   "cell_type": "code",
   "execution_count": 31,
   "metadata": {},
   "outputs": [],
   "source": [
    "# imports\n",
    "import numpy as np\n",
    "from mlwpy import *\n",
    "import matplotlib.pyplot as plt\n",
    "import matplotlib as mpl\n",
    "import pandas as pd\n",
    "import seaborn as sns\n",
    "from sklearn import (datasets, neighbors,\n",
    "                     naive_bayes,\n",
    "                     model_selection as skms,\n",
    "                     linear_model, dummy,\n",
    "                     metrics,\n",
    "                     pipeline,\n",
    "                     preprocessing as skpre) \n",
    "import csv\n",
    "from sklearn import tree\n",
    "from sklearn.model_selection import GridSearchCV\n",
    "\n",
    "from sklearn.linear_model import LinearRegression\n",
    "from sklearn.linear_model import Lasso\n",
    "from sklearn.linear_model import ElasticNet\n",
    "from sklearn.tree import DecisionTreeRegressor\n",
    "from sklearn.neighbors import KNeighborsRegressor\n",
    "from sklearn.ensemble import GradientBoostingRegressor\n",
    "\n",
    "import numpy as np\n",
    "import pandas as pd\n",
    "from sklearn import datasets\n",
    "import seaborn as sns\n",
    "from sklearn.feature_selection import RFE\n",
    "from sklearn.model_selection import train_test_split\n",
    "from sklearn.model_selection import cross_val_score\n",
    "from sklearn.metrics import mean_squared_error\n",
    "from sklearn.model_selection import KFold\n",
    "from sklearn.pipeline import Pipeline\n",
    "from sklearn.preprocessing import StandardScaler\n",
    "import matplotlib.pyplot as plt"
   ]
  },
  {
   "cell_type": "markdown",
   "metadata": {},
   "source": [
    "### Step 2\n",
    "Read in the .csv files and create DataFrames"
   ]
  },
  {
   "cell_type": "code",
   "execution_count": 32,
   "metadata": {},
   "outputs": [],
   "source": [
    "data_train_df = pd.read_csv(\"cars_reg_train.csv\") \n",
    "test_df = pd.read_csv(\"cars_reg_test.csv\")\n",
    "data_train_ft = data_train_df.drop('price', axis=1)\n",
    "data_train_tgt = data_train_df[\"price\"]"
   ]
  },
  {
   "cell_type": "markdown",
   "metadata": {},
   "source": [
    "### Step 3\n",
    "Focus down to the features we think will have the largest impact on points scored. \n",
    "\n",
    "We tried to stick to more of the physical attributes like age or height over subjective factors, like city or roster status. We believe points are more about the players themselves than the citys/schools they play for.\n",
    "As well as including whether they are in the NBA or not, active, and the draft selection. Lastly PIE seems to have the greatest impact, even though there are not a lot of them in the data. "
   ]
  },
  {
   "cell_type": "code",
   "execution_count": 33,
   "metadata": {},
   "outputs": [
    {
     "name": "stdout",
     "output_type": "stream",
     "text": [
      "Unnamed: 0        int64\n",
      "url              object\n",
      "region           object\n",
      "region_url       object\n",
      "year            float64\n",
      "manufacturer     object\n",
      "model            object\n",
      "condition        object\n",
      "cylinders        object\n",
      "fuel             object\n",
      "odometer        float64\n",
      "title_status     object\n",
      "transmission     object\n",
      "VIN              object\n",
      "drive            object\n",
      "size             object\n",
      "type             object\n",
      "paint_color      object\n",
      "image_url        object\n",
      "description      object\n",
      "state            object\n",
      "lat             float64\n",
      "long            float64\n",
      "posting_date     object\n",
      "dtype: object\n",
      "   Unnamed: 0                                                url  \\\n",
      "0      259073  https://newjersey.craigslist.org/cto/d/bloomin...   \n",
      "1      445077  https://denver.craigslist.org/cto/d/henderson-...   \n",
      "2      109862  https://spacecoast.craigslist.org/cto/d/merrit...   \n",
      "3       17375  https://yuma.craigslist.org/cto/d/yuma-2016-fo...   \n",
      "4       51906  https://sacramento.craigslist.org/ctd/d/san-ra...   \n",
      "\n",
      "         region                         region_url                 year  \\\n",
      "0  north jersey   https://newjersey.craigslist.org           2,010.0000   \n",
      "1        denver      https://denver.craigslist.org           1,967.0000   \n",
      "2   space coast  https://spacecoast.craigslist.org           1,999.0000   \n",
      "3          yuma        https://yuma.craigslist.org           2,016.0000   \n",
      "4    sacramento  https://sacramento.craigslist.org           2,017.0000   \n",
      "\n",
      "  manufacturer                 model  condition    cylinders fuel  ...  drive  \\\n",
      "0         audi  a5 2.0t premium plus  excellent  4 cylinders  gas  ...    4wd   \n",
      "1    chevrolet                camaro   like new  8 cylinders  gas  ...    rwd   \n",
      "2          gmc          yukon denali  excellent  8 cylinders  gas  ...    4wd   \n",
      "3         ford    fusion se ecoboost  excellent  4 cylinders  gas  ...    fwd   \n",
      "4        lexus             es es 350  excellent  6 cylinders  gas  ...    NaN   \n",
      "\n",
      "        size         type paint_color  \\\n",
      "0   mid-size  convertible       white   \n",
      "1   mid-size  convertible         NaN   \n",
      "2  full-size        truck        grey   \n",
      "3  full-size        sedan      silver   \n",
      "4        NaN        sedan         NaN   \n",
      "\n",
      "                                           image_url  \\\n",
      "0  https://images.craigslist.org/00b0b_2OOpaB40is...   \n",
      "1  https://images.craigslist.org/00o0o_giVSk7Lu1w...   \n",
      "2  https://images.craigslist.org/00v0v_1w1Oy7wYyl...   \n",
      "3  https://images.craigslist.org/01414_aogQkfToLX...   \n",
      "4  https://images.craigslist.org/00f0f_ezGhBd7oTO...   \n",
      "\n",
      "                                         description state  \\\n",
      "0  I am a private seller, not a dealer. I am list...    nj   \n",
      "1  1967 CHEVROLET CAMARO CONVERTIBLE  ****NUMBERS...    co   \n",
      "2  99 YUKON DENALI - RUNS GREAT! FULLY LOADED DEN...    fl   \n",
      "3  This car is in perfect condition mechanically....    az   \n",
      "4  2017 Lexus ES ES 350 FOR ONLY $398/mo!24,782 m...    ca   \n",
      "\n",
      "                   lat                 long              posting_date  \n",
      "0              41.0128             -74.3338  2020-11-29T11:31:13-0500  \n",
      "1              39.9057            -104.8509  2020-12-03T05:43:21-0700  \n",
      "2              28.2764             -80.6568  2020-11-14T09:18:30-0500  \n",
      "3              32.6168            -114.4947  2020-11-10T13:43:37-0800  \n",
      "4              37.9632            -122.5095  2020-12-01T14:02:14-0800  \n",
      "\n",
      "[5 rows x 24 columns]\n"
     ]
    }
   ],
   "source": [
    "features = ['year',\\\n",
    "            'odometer',\n",
    "            'lat',\n",
    "            'long'\n",
    "            ]\n",
    "\n",
    "# To see what kind of data we're working with\n",
    "print(data_train_ft.dtypes)\n",
    "print(data_train_ft.head(5))\n",
    "\n",
    "# From looking at the data it looks like Draft and all star apperances should be useful. \n",
    "# Feauture used will need to be transformed into numbers in order to use the prediction models and have them be uniform≥ "
   ]
  },
  {
   "cell_type": "markdown",
   "metadata": {},
   "source": [
    "### Step 4\n",
    "Convert numbers to their correct formats and fill in any missing values. \n",
    "\n",
    "Missing values don't help us in our quest for accuracy, but filling them in as zero won't necessarily hurt us either. By filling them in, we can still use other parts of the player's data without having to throw away the entire entry."
   ]
  },
  {
   "cell_type": "code",
   "execution_count": 34,
   "metadata": {},
   "outputs": [
    {
     "name": "stdout",
     "output_type": "stream",
     "text": [
      "<class 'pandas.core.frame.DataFrame'>\n",
      "RangeIndex: 200916 entries, 0 to 200915\n",
      "Data columns (total 4 columns):\n",
      " #   Column    Non-Null Count   Dtype  \n",
      "---  ------    --------------   -----  \n",
      " 0   year      200916 non-null  float64\n",
      " 1   odometer  200916 non-null  float64\n",
      " 2   lat       200916 non-null  float64\n",
      " 3   long      200916 non-null  float64\n",
      "dtypes: float64(4)\n",
      "memory usage: 6.1 MB\n",
      "None\n"
     ]
    }
   ],
   "source": [
    "### Training Data transformations\n",
    "data_train_ft['year'] = data_train_ft['year'].fillna(0)\n",
    "\n",
    "data_train_ft['odometer'] = data_train_ft['odometer'].fillna(0)\n",
    "\n",
    "data_train_ft['lat'] = data_train_ft['lat'].fillna(0)\n",
    "\n",
    "data_train_ft['long'] = data_train_ft['long'].fillna(0)\n",
    "'''\n",
    "year',\\\n",
    "            'odometer',\n",
    "            'lat',\n",
    "            'long'\n",
    "            '''\n",
    "'''\n",
    "# replace Y and N to 0-Yes and 1-No \n",
    "data_train_ft['NBA_FLAG'].replace(['Y','N'],[0,1],inplace=True)\n",
    "# fill all NA values to be 1-No\n",
    "data_train_ft['NBA_FLAG'] = data_train_ft['NBA_FLAG'].fillna(1)\n",
    "# convert data to a floating type\n",
    "data_train_ft['NBA_FLAG'] = data_train_ft['NBA_FLAG'].astype(float)\n",
    "\n",
    "data_train_ft['ROSTERSTATUS'].replace(['Active','Inactive'],[0,1],inplace=True)\n",
    "data_train_ft['ROSTERSTATUS'] = data_train_ft['ROSTERSTATUS'].fillna(1)\n",
    "data_train_ft['ROSTERSTATUS'] = data_train_ft['ROSTERSTATUS'].astype(float)\n",
    "\n",
    "data_train_ft['DLEAGUE_FLAG'].replace(['Y','N'],[0,1],inplace=True)\n",
    "data_train_ft['DLEAGUE_FLAG'] = data_train_ft['DLEAGUE_FLAG'].fillna(1)\n",
    "data_train_ft['DLEAGUE_FLAG'] = data_train_ft['DLEAGUE_FLAG'].astype(float)\n",
    "\n",
    "data_train_ft['GAMES_PLAYED_FLAG'].replace(['Y','N'],[0,1],inplace=True)\n",
    "data_train_ft['GAMES_PLAYED_FLAG'] = data_train_ft['GAMES_PLAYED_FLAG'].fillna(1)\n",
    "data_train_ft['GAMES_PLAYED_FLAG'] = data_train_ft['GAMES_PLAYED_FLAG'].astype(float)\n",
    "\n",
    "data_train_ft['DRAFT_ROUND'].replace(['Undrafted', 'None'],[0, 0],inplace=True)\n",
    "data_train_ft['DRAFT_ROUND'] = data_train_ft['DRAFT_ROUND'].fillna(0)\n",
    "data_train_ft['DRAFT_ROUND'] = data_train_ft['DRAFT_ROUND'].astype(float)\n",
    "\n",
    "data_train_ft['DRAFT_NUMBER'].replace(['Undrafted', 'None'],[0, 0],inplace=True)\n",
    "data_train_ft['DRAFT_NUMBER'] = data_train_ft['DRAFT_NUMBER'].fillna(0)\n",
    "data_train_ft['DRAFT_NUMBER'] = data_train_ft['DRAFT_NUMBER'].astype(float)\n",
    "\n",
    "\n",
    "data_train_ft['PIE'] = data_train_ft['PIE'].fillna(0)\n",
    "data_train_ft['PIE'] = data_train_ft['PIE'].astype(float)\n",
    "\n",
    "data_train_ft['BIRTHDATE'] = pd.to_datetime(data_train_ft['BIRTHDATE'])\n",
    "data_train_ft['BIRTHDATE'] = 2022 - pd.DatetimeIndex(data_train_ft['BIRTHDATE']).year \n",
    "data_train_ft['BIRTHDATE'] = data_train_ft['BIRTHDATE'].fillna(0)\n",
    "data_train_ft['BIRTHDATE'] = data_train_ft['BIRTHDATE'].astype(float)\n",
    "\n",
    "data_train_ft['SEASON_EXP'] = data_train_ft['SEASON_EXP'].astype(float)\n",
    "data_train_ft['SEASON_EXP'] = data_train_ft['SEASON_EXP'].fillna(0)\n",
    "\n",
    "data_train_ft['DRAFT_YEAR'].replace(['Undrafted', 'None'],[0, 0],inplace=True)\n",
    "data_train_ft['DRAFT_YEAR'] = data_train_ft['DRAFT_YEAR'].astype(float)\n",
    "data_train_ft['DRAFT_YEAR'] = data_train_ft['DRAFT_YEAR'].fillna(0)\n",
    "\n",
    "#print(data_train_ft['BIRTHDATE'])\n",
    "#print(data_train_ft.describe())\n",
    "\n",
    "data_train_ft['AST'] = data_train_ft['AST'].fillna(0)\n",
    "data_train_ft['REB'] = data_train_ft['REB'].fillna(0)\n",
    "data_train_ft['ALL_STAR_APPEARANCES'] = data_train_ft['ALL_STAR_APPEARANCES'].fillna(0)\n",
    "data_train_ft['HEIGHT'] = data_train_ft['HEIGHT'].fillna(0)\n",
    "data_train_ft['WEIGHT'] = data_train_ft['WEIGHT'].fillna(0)\n",
    "'''\n",
    "data_train_ft = data_train_ft[features]\n",
    "# data_train_ft['DRAFT_ROUND'].astype(int)\n",
    "'''\n",
    "\n",
    "#### Testing Data\n",
    "\n",
    "test_df['NBA_FLAG'].replace(['Y','N'],[0,1],inplace=True)\n",
    "test_df['NBA_FLAG'] = test_df['NBA_FLAG'].fillna(1)\n",
    "test_df['NBA_FLAG'] = test_df['NBA_FLAG'].astype(float)\n",
    "\n",
    "test_df['ROSTERSTATUS'].replace(['Active','Inactive'],[0,1],inplace=True)\n",
    "test_df['ROSTERSTATUS'] = test_df['ROSTERSTATUS'].fillna(1)\n",
    "test_df['ROSTERSTATUS'] = test_df['ROSTERSTATUS'].astype(float)\n",
    "\n",
    "test_df['DLEAGUE_FLAG'].replace(['Y','N'],[0,1],inplace=True)\n",
    "test_df['DLEAGUE_FLAG'] = test_df['DLEAGUE_FLAG'].fillna(1)\n",
    "test_df['DLEAGUE_FLAG'] = test_df['DLEAGUE_FLAG'].astype(float)\n",
    "\n",
    "test_df['GAMES_PLAYED_FLAG'].replace(['Y','N'],[0,1],inplace=True)\n",
    "test_df['GAMES_PLAYED_FLAG'] = test_df['GAMES_PLAYED_FLAG'].fillna(1)\n",
    "test_df['GAMES_PLAYED_FLAG'] = test_df['GAMES_PLAYED_FLAG'].astype(float)\n",
    "\n",
    "test_df['DRAFT_ROUND'].replace(['Undrafted', 'None'],[0, 0],inplace=True)\n",
    "test_df['DRAFT_ROUND'] = test_df['DRAFT_ROUND'].fillna(0)\n",
    "test_df['DRAFT_ROUND'] = test_df['DRAFT_ROUND'].astype(float)\n",
    "\n",
    "test_df['DRAFT_NUMBER'].replace(['Undrafted', 'None'],[0, 0],inplace=True)\n",
    "test_df['DRAFT_NUMBER'] = test_df['DRAFT_NUMBER'].fillna(0)\n",
    "test_df['DRAFT_NUMBER'] = test_df['DRAFT_NUMBER'].astype(float)\n",
    "\n",
    "test_df['PIE'] = test_df['PIE'].fillna(0)\n",
    "test_df['PIE'] = test_df['PIE'].astype(float)\n",
    "\n",
    "test_df['BIRTHDATE'] = pd.to_datetime(test_df['BIRTHDATE'])\n",
    "test_df['BIRTHDATE'] = 2022 - pd.DatetimeIndex(test_df['BIRTHDATE']).year \n",
    "test_df['BIRTHDATE'] = test_df['BIRTHDATE'].astype(float)\n",
    "test_df['BIRTHDATE'] = test_df['BIRTHDATE'].fillna(0)\n",
    "\n",
    "test_df['SEASON_EXP'] = test_df['SEASON_EXP'].astype(float)\n",
    "test_df['SEASON_EXP'] = test_df['SEASON_EXP'].fillna(0)\n",
    "\n",
    "test_df['DRAFT_YEAR'].replace(['Undrafted', 'None'],[0, 0],inplace=True)\n",
    "test_df['DRAFT_YEAR'] = test_df['DRAFT_YEAR'].astype(float)\n",
    "test_df['DRAFT_YEAR'] = test_df['DRAFT_YEAR'].fillna(0)\n",
    "\n",
    "test_df['AST'] = test_df['AST'].fillna(0)\n",
    "test_df['REB'] = test_df['REB'].fillna(0)\n",
    "test_df['ALL_STAR_APPEARANCES'] = test_df['ALL_STAR_APPEARANCES'].fillna(0)\n",
    "test_df['HEIGHT'] = test_df['HEIGHT'].fillna(0)\n",
    "test_df['WEIGHT'] = test_df['WEIGHT'].fillna(0)\n",
    "\n",
    "# check to make sure data types are uniform\n",
    "print(data_train_ft.dtypes)\n",
    "print(data_train_df.head(5))\n",
    "pd.set_option('precision', 2)\n",
    "'''\n",
    "test_df = test_df[features]\n",
    "print(data_train_ft.info())"
   ]
  },
  {
   "cell_type": "markdown",
   "metadata": {},
   "source": [
    "### Step 5\n",
    "Create a heat map to visualize trends present in the data."
   ]
  },
  {
   "cell_type": "code",
   "execution_count": 35,
   "metadata": {},
   "outputs": [
    {
     "data": {
      "image/png": "[encoded data removed]",
      "text/plain": [
       "<Figure size 288x216 with 2 Axes>"
      ]
     },
     "metadata": {},
     "output_type": "display_data"
    }
   ],
   "source": [
    "correlation_map = np.corrcoef(data_train_ft.values.T)\n",
    "sns.set(font_scale=1.0)\n",
    "heatmap = sns.heatmap(correlation_map, cbar=True, annot=True, square=True, fmt='.2f', yticklabels=features, xticklabels=features)\n",
    "\n",
    "plt.show()"
   ]
  },
  {
   "cell_type": "markdown",
   "metadata": {},
   "source": [
    "### Step 6\n",
    "Split the data into training and validation sets for use with cross-validation scoring. We split the data randomly to lower the chances of overfitting."
   ]
  },
  {
   "cell_type": "code",
   "execution_count": 36,
   "metadata": {},
   "outputs": [],
   "source": [
    "train_plus_validation_ftrs, test_ftrs, train_plus_validation_tgt, test_tgt = train_test_split (data_train_ft, data_train_tgt, test_size = 0.20,\n",
    "                                   random_state = 42)"
   ]
  },
  {
   "cell_type": "markdown",
   "metadata": {},
   "source": [
    "### Step 7\n",
    "This is another portion where accuracy is most directly influenced. We added as many models as possible (within reason) to ensure that we were covering all our bases to get the most accurate predictions."
   ]
  },
  {
   "cell_type": "code",
   "execution_count": 37,
   "metadata": {},
   "outputs": [
    {
     "name": "stdout",
     "output_type": "stream",
     "text": [
      "{'LR': LinearRegression(), 'CART': DecisionTreeRegressor(max_depth=10), 'KNN-1': KNeighborsRegressor(n_neighbors=1), 'KNN-3': KNeighborsRegressor(n_neighbors=3), 'KNN-5': KNeighborsRegressor(), 'KNN-7': KNeighborsRegressor(n_neighbors=7), 'KNN-9': KNeighborsRegressor(n_neighbors=9), 'GBR-25': GradientBoostingRegressor(n_estimators=25, random_state=21), 'Ridge (C=0.1)': Ridge(alpha=0.1), 'Lasso (C=0.25)': Lasso(alpha=0.25), 'Lasso (C=0.5)': Lasso(alpha=0.5), 'Lasso (C=0.75)': Lasso(alpha=0.75), 'Lasso (C=1.0)': Lasso(), 'Lasso (C=1.25)': Lasso(alpha=1.25), 'Lasso (C=1.5)': Lasso(alpha=1.5), 'Lasso (C=1.75)': Lasso(alpha=1.75), 'Lasso (C=2.0)': Lasso(alpha=2.0), 'Lasso (C=3.0)': Lasso(alpha=3.0), 'Lasso (C=4.0)': Lasso(alpha=4.0), 'Lasso (C=5.0)': Lasso(alpha=5.0), 'Lasso (C=10)': Lasso(alpha=10), 'Lasso (C=20)': Lasso(alpha=20)}\n"
     ]
    }
   ],
   "source": [
    "\n",
    "pipelines = \\\n",
    "    {\n",
    "    'LR' : LinearRegression(),\n",
    "    'CART' : DecisionTreeRegressor(max_depth=10)}\n",
    "for k in range(1,11,2):\n",
    "    pipelines[f'KNN-{k}'] = KNeighborsRegressor(n_neighbors=k)\n",
    "for i in range(25,45,20):\n",
    "    pipelines[f'GBR-{i}'] = GradientBoostingRegressor(random_state=21, n_estimators=i)\n",
    "alpha_value=0.1\n",
    "pipelines[f'Ridge (C={alpha_value})'] = linear_model.Ridge(alpha=alpha_value)\n",
    "values = [0.25, 0.50, 0.75, 1.0, 1.25, 1.50, 1.75, 2.0, 3.0, 4.0, 5.0, 10, 20]\n",
    "for alpha_value in values:\n",
    "    pipelines[f'Lasso (C={alpha_value})'] = linear_model.Lasso(alpha=alpha_value)\n",
    "print(pipelines)\n",
    "\n",
    "\n"
   ]
  },
  {
   "cell_type": "markdown",
   "metadata": {},
   "source": [
    "### Step 8\n",
    "Using different standardizing pipelines, run multiple cross-validation tests on the data splits to find the best performing model.\n",
    "\n",
    "Further refine the selection of best model by comparing scores."
   ]
  },
  {
   "cell_type": "code",
   "execution_count": 38,
   "metadata": {},
   "outputs": [
    {
     "name": "stdout",
     "output_type": "stream",
     "text": [
      "LR: 9027988.767\n",
      "CART: 12762416.178\n",
      "KNN-1: 9042723.391\n",
      "KNN-3: 9983048.716\n",
      "KNN-5: 9724277.103\n",
      "KNN-7: 9821966.269\n",
      "KNN-9: 9568962.253\n"
     ]
    }
   ],
   "source": [
    "\n",
    "accuracy_scores = {}\n",
    "for pipeline_name in pipelines:\n",
    "    #loo = skms.LeaveOneOut()\n",
    "    scores = skms.cross_val_score(pipelines[pipeline_name],\n",
    "                                  train_plus_validation_ftrs,\n",
    "                                  train_plus_validation_tgt,\n",
    "                                  #cv=loo,\n",
    "                                  cv=10,\n",
    "                                  scoring='neg_mean_squared_error')\n",
    "    scores = np.sqrt(-scores.mean())\n",
    "    accuracy_scores[pipeline_name] = scores\n",
    "    print(f'{pipeline_name}: {scores:.3f}')\n",
    "\n",
    "best_model_name = min(accuracy_scores,key=accuracy_scores.get)\n",
    "print(f'\\nBest model: {best_model_name} (accuracy = {accuracy_scores[best_model_name]:.3f})')\n",
    "final_model = pipelines[best_model_name]\n",
    "\n",
    "## Best model sees to be GBR-85 (accuracy = 2.088)"
   ]
  },
  {
   "cell_type": "markdown",
   "metadata": {},
   "source": [
    "### Step 9\n",
    "Rescale the data and fit the model."
   ]
  },
  {
   "cell_type": "code",
   "execution_count": null,
   "metadata": {},
   "outputs": [
    {
     "ename": "ValueError",
     "evalue": "Input contains NaN, infinity or a value too large for dtype('float64').",
     "output_type": "error",
     "traceback": [
      "\u001b[0;31m---------------------------------------------------------------------------\u001b[0m",
      "\u001b[0;31mValueError\u001b[0m                                Traceback (most recent call last)",
      "\u001b[0;32m/var/folders/8k/l65lktds3250dyd3jzxfvjw80000gn/T/ipykernel_82358/470664684.py\u001b[0m in \u001b[0;36m<module>\u001b[0;34m\u001b[0m\n\u001b[1;32m      1\u001b[0m \u001b[0mscaler\u001b[0m \u001b[0;34m=\u001b[0m \u001b[0mStandardScaler\u001b[0m\u001b[0;34m(\u001b[0m\u001b[0;34m)\u001b[0m\u001b[0;34m.\u001b[0m\u001b[0mfit\u001b[0m\u001b[0;34m(\u001b[0m\u001b[0mtrain_plus_validation_ftrs\u001b[0m\u001b[0;34m)\u001b[0m\u001b[0;34m\u001b[0m\u001b[0;34m\u001b[0m\u001b[0m\n\u001b[1;32m      2\u001b[0m \u001b[0mrescaled_train_plus_validation_ftrs\u001b[0m \u001b[0;34m=\u001b[0m \u001b[0mscaler\u001b[0m\u001b[0;34m.\u001b[0m\u001b[0mtransform\u001b[0m\u001b[0;34m(\u001b[0m\u001b[0mtrain_plus_validation_ftrs\u001b[0m\u001b[0;34m)\u001b[0m\u001b[0;34m\u001b[0m\u001b[0;34m\u001b[0m\u001b[0m\n\u001b[0;32m----> 3\u001b[0;31m nba_scores_fit = final_model.fit(rescaled_train_plus_validation_ftrs, \n\u001b[0m\u001b[1;32m      4\u001b[0m                                    train_plus_validation_tgt)\n",
      "\u001b[0;32m~/opt/anaconda3/lib/python3.9/site-packages/sklearn/linear_model/_base.py\u001b[0m in \u001b[0;36mfit\u001b[0;34m(self, X, y, sample_weight)\u001b[0m\n\u001b[1;32m    516\u001b[0m         \u001b[0maccept_sparse\u001b[0m \u001b[0;34m=\u001b[0m \u001b[0;32mFalse\u001b[0m \u001b[0;32mif\u001b[0m \u001b[0mself\u001b[0m\u001b[0;34m.\u001b[0m\u001b[0mpositive\u001b[0m \u001b[0;32melse\u001b[0m \u001b[0;34m[\u001b[0m\u001b[0;34m'csr'\u001b[0m\u001b[0;34m,\u001b[0m \u001b[0;34m'csc'\u001b[0m\u001b[0;34m,\u001b[0m \u001b[0;34m'coo'\u001b[0m\u001b[0;34m]\u001b[0m\u001b[0;34m\u001b[0m\u001b[0;34m\u001b[0m\u001b[0m\n\u001b[1;32m    517\u001b[0m \u001b[0;34m\u001b[0m\u001b[0m\n\u001b[0;32m--> 518\u001b[0;31m         X, y = self._validate_data(X, y, accept_sparse=accept_sparse,\n\u001b[0m\u001b[1;32m    519\u001b[0m                                    y_numeric=True, multi_output=True)\n\u001b[1;32m    520\u001b[0m \u001b[0;34m\u001b[0m\u001b[0m\n",
      "\u001b[0;32m~/opt/anaconda3/lib/python3.9/site-packages/sklearn/base.py\u001b[0m in \u001b[0;36m_validate_data\u001b[0;34m(self, X, y, reset, validate_separately, **check_params)\u001b[0m\n\u001b[1;32m    431\u001b[0m                 \u001b[0my\u001b[0m \u001b[0;34m=\u001b[0m \u001b[0mcheck_array\u001b[0m\u001b[0;34m(\u001b[0m\u001b[0my\u001b[0m\u001b[0;34m,\u001b[0m \u001b[0;34m**\u001b[0m\u001b[0mcheck_y_params\u001b[0m\u001b[0;34m)\u001b[0m\u001b[0;34m\u001b[0m\u001b[0;34m\u001b[0m\u001b[0m\n\u001b[1;32m    432\u001b[0m             \u001b[0;32melse\u001b[0m\u001b[0;34m:\u001b[0m\u001b[0;34m\u001b[0m\u001b[0;34m\u001b[0m\u001b[0m\n\u001b[0;32m--> 433\u001b[0;31m                 \u001b[0mX\u001b[0m\u001b[0;34m,\u001b[0m \u001b[0my\u001b[0m \u001b[0;34m=\u001b[0m \u001b[0mcheck_X_y\u001b[0m\u001b[0;34m(\u001b[0m\u001b[0mX\u001b[0m\u001b[0;34m,\u001b[0m \u001b[0my\u001b[0m\u001b[0;34m,\u001b[0m \u001b[0;34m**\u001b[0m\u001b[0mcheck_params\u001b[0m\u001b[0;34m)\u001b[0m\u001b[0;34m\u001b[0m\u001b[0;34m\u001b[0m\u001b[0m\n\u001b[0m\u001b[1;32m    434\u001b[0m             \u001b[0mout\u001b[0m \u001b[0;34m=\u001b[0m \u001b[0mX\u001b[0m\u001b[0;34m,\u001b[0m \u001b[0my\u001b[0m\u001b[0;34m\u001b[0m\u001b[0;34m\u001b[0m\u001b[0m\n\u001b[1;32m    435\u001b[0m \u001b[0;34m\u001b[0m\u001b[0m\n",
      "\u001b[0;32m~/opt/anaconda3/lib/python3.9/site-packages/sklearn/utils/validation.py\u001b[0m in \u001b[0;36minner_f\u001b[0;34m(*args, **kwargs)\u001b[0m\n\u001b[1;32m     61\u001b[0m             \u001b[0mextra_args\u001b[0m \u001b[0;34m=\u001b[0m \u001b[0mlen\u001b[0m\u001b[0;34m(\u001b[0m\u001b[0margs\u001b[0m\u001b[0;34m)\u001b[0m \u001b[0;34m-\u001b[0m \u001b[0mlen\u001b[0m\u001b[0;34m(\u001b[0m\u001b[0mall_args\u001b[0m\u001b[0;34m)\u001b[0m\u001b[0;34m\u001b[0m\u001b[0;34m\u001b[0m\u001b[0m\n\u001b[1;32m     62\u001b[0m             \u001b[0;32mif\u001b[0m \u001b[0mextra_args\u001b[0m \u001b[0;34m<=\u001b[0m \u001b[0;36m0\u001b[0m\u001b[0;34m:\u001b[0m\u001b[0;34m\u001b[0m\u001b[0;34m\u001b[0m\u001b[0m\n\u001b[0;32m---> 63\u001b[0;31m                 \u001b[0;32mreturn\u001b[0m \u001b[0mf\u001b[0m\u001b[0;34m(\u001b[0m\u001b[0;34m*\u001b[0m\u001b[0margs\u001b[0m\u001b[0;34m,\u001b[0m \u001b[0;34m**\u001b[0m\u001b[0mkwargs\u001b[0m\u001b[0;34m)\u001b[0m\u001b[0;34m\u001b[0m\u001b[0;34m\u001b[0m\u001b[0m\n\u001b[0m\u001b[1;32m     64\u001b[0m \u001b[0;34m\u001b[0m\u001b[0m\n\u001b[1;32m     65\u001b[0m             \u001b[0;31m# extra_args > 0\u001b[0m\u001b[0;34m\u001b[0m\u001b[0;34m\u001b[0m\u001b[0m\n",
      "\u001b[0;32m~/opt/anaconda3/lib/python3.9/site-packages/sklearn/utils/validation.py\u001b[0m in \u001b[0;36mcheck_X_y\u001b[0;34m(X, y, accept_sparse, accept_large_sparse, dtype, order, copy, force_all_finite, ensure_2d, allow_nd, multi_output, ensure_min_samples, ensure_min_features, y_numeric, estimator)\u001b[0m\n\u001b[1;32m    869\u001b[0m         \u001b[0;32mraise\u001b[0m \u001b[0mValueError\u001b[0m\u001b[0;34m(\u001b[0m\u001b[0;34m\"y cannot be None\"\u001b[0m\u001b[0;34m)\u001b[0m\u001b[0;34m\u001b[0m\u001b[0;34m\u001b[0m\u001b[0m\n\u001b[1;32m    870\u001b[0m \u001b[0;34m\u001b[0m\u001b[0m\n\u001b[0;32m--> 871\u001b[0;31m     X = check_array(X, accept_sparse=accept_sparse,\n\u001b[0m\u001b[1;32m    872\u001b[0m                     \u001b[0maccept_large_sparse\u001b[0m\u001b[0;34m=\u001b[0m\u001b[0maccept_large_sparse\u001b[0m\u001b[0;34m,\u001b[0m\u001b[0;34m\u001b[0m\u001b[0;34m\u001b[0m\u001b[0m\n\u001b[1;32m    873\u001b[0m                     \u001b[0mdtype\u001b[0m\u001b[0;34m=\u001b[0m\u001b[0mdtype\u001b[0m\u001b[0;34m,\u001b[0m \u001b[0morder\u001b[0m\u001b[0;34m=\u001b[0m\u001b[0morder\u001b[0m\u001b[0;34m,\u001b[0m \u001b[0mcopy\u001b[0m\u001b[0;34m=\u001b[0m\u001b[0mcopy\u001b[0m\u001b[0;34m,\u001b[0m\u001b[0;34m\u001b[0m\u001b[0;34m\u001b[0m\u001b[0m\n",
      "\u001b[0;32m~/opt/anaconda3/lib/python3.9/site-packages/sklearn/utils/validation.py\u001b[0m in \u001b[0;36minner_f\u001b[0;34m(*args, **kwargs)\u001b[0m\n\u001b[1;32m     61\u001b[0m             \u001b[0mextra_args\u001b[0m \u001b[0;34m=\u001b[0m \u001b[0mlen\u001b[0m\u001b[0;34m(\u001b[0m\u001b[0margs\u001b[0m\u001b[0;34m)\u001b[0m \u001b[0;34m-\u001b[0m \u001b[0mlen\u001b[0m\u001b[0;34m(\u001b[0m\u001b[0mall_args\u001b[0m\u001b[0;34m)\u001b[0m\u001b[0;34m\u001b[0m\u001b[0;34m\u001b[0m\u001b[0m\n\u001b[1;32m     62\u001b[0m             \u001b[0;32mif\u001b[0m \u001b[0mextra_args\u001b[0m \u001b[0;34m<=\u001b[0m \u001b[0;36m0\u001b[0m\u001b[0;34m:\u001b[0m\u001b[0;34m\u001b[0m\u001b[0;34m\u001b[0m\u001b[0m\n\u001b[0;32m---> 63\u001b[0;31m                 \u001b[0;32mreturn\u001b[0m \u001b[0mf\u001b[0m\u001b[0;34m(\u001b[0m\u001b[0;34m*\u001b[0m\u001b[0margs\u001b[0m\u001b[0;34m,\u001b[0m \u001b[0;34m**\u001b[0m\u001b[0mkwargs\u001b[0m\u001b[0;34m)\u001b[0m\u001b[0;34m\u001b[0m\u001b[0;34m\u001b[0m\u001b[0m\n\u001b[0m\u001b[1;32m     64\u001b[0m \u001b[0;34m\u001b[0m\u001b[0m\n\u001b[1;32m     65\u001b[0m             \u001b[0;31m# extra_args > 0\u001b[0m\u001b[0;34m\u001b[0m\u001b[0;34m\u001b[0m\u001b[0m\n",
      "\u001b[0;32m~/opt/anaconda3/lib/python3.9/site-packages/sklearn/utils/validation.py\u001b[0m in \u001b[0;36mcheck_array\u001b[0;34m(array, accept_sparse, accept_large_sparse, dtype, order, copy, force_all_finite, ensure_2d, allow_nd, ensure_min_samples, ensure_min_features, estimator)\u001b[0m\n\u001b[1;32m    718\u001b[0m \u001b[0;34m\u001b[0m\u001b[0m\n\u001b[1;32m    719\u001b[0m         \u001b[0;32mif\u001b[0m \u001b[0mforce_all_finite\u001b[0m\u001b[0;34m:\u001b[0m\u001b[0;34m\u001b[0m\u001b[0;34m\u001b[0m\u001b[0m\n\u001b[0;32m--> 720\u001b[0;31m             _assert_all_finite(array,\n\u001b[0m\u001b[1;32m    721\u001b[0m                                allow_nan=force_all_finite == 'allow-nan')\n\u001b[1;32m    722\u001b[0m \u001b[0;34m\u001b[0m\u001b[0m\n",
      "\u001b[0;32m~/opt/anaconda3/lib/python3.9/site-packages/sklearn/utils/validation.py\u001b[0m in \u001b[0;36m_assert_all_finite\u001b[0;34m(X, allow_nan, msg_dtype)\u001b[0m\n\u001b[1;32m    101\u001b[0m                 not allow_nan and not np.isfinite(X).all()):\n\u001b[1;32m    102\u001b[0m             \u001b[0mtype_err\u001b[0m \u001b[0;34m=\u001b[0m \u001b[0;34m'infinity'\u001b[0m \u001b[0;32mif\u001b[0m \u001b[0mallow_nan\u001b[0m \u001b[0;32melse\u001b[0m \u001b[0;34m'NaN, infinity'\u001b[0m\u001b[0;34m\u001b[0m\u001b[0;34m\u001b[0m\u001b[0m\n\u001b[0;32m--> 103\u001b[0;31m             raise ValueError(\n\u001b[0m\u001b[1;32m    104\u001b[0m                     \u001b[0mmsg_err\u001b[0m\u001b[0;34m.\u001b[0m\u001b[0mformat\u001b[0m\u001b[0;34m\u001b[0m\u001b[0;34m\u001b[0m\u001b[0m\n\u001b[1;32m    105\u001b[0m                     (type_err,\n",
      "\u001b[0;31mValueError\u001b[0m: Input contains NaN, infinity or a value too large for dtype('float64')."
     ]
    }
   ],
   "source": [
    "scaler = StandardScaler().fit(train_plus_validation_ftrs)\n",
    "rescaled_train_plus_validation_ftrs = scaler.transform(train_plus_validation_ftrs)\n",
    "nba_scores_fit = final_model.fit(rescaled_train_plus_validation_ftrs, \n",
    "                                   train_plus_validation_tgt)"
   ]
  },
  {
   "cell_type": "markdown",
   "metadata": {},
   "source": [
    "### Step 10\n",
    "Scale the data and predict points on the selected model and save it in a temporary .csv for analysis."
   ]
  },
  {
   "cell_type": "code",
   "execution_count": null,
   "metadata": {},
   "outputs": [
    {
     "name": "stdout",
     "output_type": "stream",
     "text": [
      "Using model: GradientBoostingRegressor(n_estimators=85, random_state=21) and features: ['BIRTHDATE', 'SEASON_EXP', 'HEIGHT', 'AST', 'REB', 'ALL_STAR_APPEARANCES', 'DRAFT_ROUND', 'DRAFT_NUMBER', 'GAMES_PLAYED_FLAG', 'ROSTERSTATUS', 'PIE']\n"
     ]
    }
   ],
   "source": [
    "\n",
    "rescaled_test_ftrs = scaler.transform(test_df)\n",
    "predictions = nba_scores_fit.predict(rescaled_test_ftrs)\n",
    "# score = np.sqrt(metrics.mean_squared_error(predictions, tes))\n",
    "print(f'Using model: {final_model} and features: {features}')\n",
    "# print(f'Final score: {score:.3f}')\n",
    "# predictions = model.predict(rescaled_test_ftrs)\n",
    "\n",
    "# compare = pd.DataFrame({'Prediction': predictions, 'Test Data' : test_tgt})\n",
    "# compare.head(10)\n",
    "# This is just using the test.csv to setup a dataframe of the correct size\n",
    "# and indicies (the \"id\" field).\n",
    "make_submission_df = pd.read_csv(\"cars_reg_test.csv\")\n",
    "# drop all columns except 'id'\n",
    "make_submission_df = make_submission_df[['id']]\n",
    "# make sure the column of ID's that we just read in is the index column\n",
    "make_submission_df = make_submission_df.set_index('id')"
   ]
  },
  {
   "cell_type": "markdown",
   "metadata": {},
   "source": [
    "### Step 11\n",
    "Add our predictions to a submission file and save the final .csv"
   ]
  },
  {
   "cell_type": "code",
   "execution_count": null,
   "metadata": {},
   "outputs": [],
   "source": [
    "make_submission_df['PTS'] = predictions\n",
    "make_submission_df.to_csv('submission.csv',sep=',', float_format='%.2f')"
   ]
  }
 ],
 "metadata": {
  "kernelspec": {
   "display_name": "Python3",
   "language": "python",
   "name": "python3"
  },
  "language_info": {
   "codemirror_mode": {
    "name": "ipython",
    "version": 3
   },
   "file_extension": ".py",
   "mimetype": "text/x-python",
   "name": "python",
   "nbconvert_exporter": "python",
   "pygments_lexer": "ipython3",
   "version": "3.9.7"
  }
 },
 "nbformat": 4,
 "nbformat_minor": 2
}
