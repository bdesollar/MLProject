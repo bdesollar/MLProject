{
 "cells": [
  {
   "cell_type": "markdown",
   "metadata": {},
   "source": [
    "# NBA Scores\n",
    "**ML Project 1 - Spring 2022**\n",
    "\n",
    "Collaborators: Ben DeSollar and Matt McDonell\n",
    "\n",
    "\n",
    "Descriptions: The first part should be a description which models/classifiers/regressors achieved the best \n",
    "    results with your datasets datasets, and what you did to improve those results along the way.\n",
    "\n",
    "    - Through research we found that a called GradientBoostingRegressor worked the best after testing a couple different model including\n",
    "    KNeighborsRegressor, Lasso, Ridge, and DecisionTreeRegressor. We improved our results by modifying our feature selection to include as many features as we \n",
    "    could to help predict the best values. Things like weight and Deaft year did not seem to be as important as the draft round and PIE. By modifying our featuiues \n",
    "    during testing we were able to find the best model predictions."
   ]
  },
  {
   "cell_type": "markdown",
   "metadata": {},
   "source": [
    "### Step 1\n",
    "Import the required packages and frameworks."
   ]
  },
  {
   "cell_type": "code",
   "execution_count": 23,
   "metadata": {},
   "outputs": [],
   "source": [
    "# imports\n",
    "import numpy as np\n",
    "from mlwpy import *\n",
    "import matplotlib.pyplot as plt\n",
    "import matplotlib as mpl\n",
    "import pandas as pd\n",
    "import seaborn as sns\n",
    "from sklearn import (datasets, neighbors,\n",
    "                     naive_bayes,\n",
    "                     model_selection as skms,\n",
    "                     linear_model, dummy,\n",
    "                     metrics,\n",
    "                     pipeline,\n",
    "                     preprocessing as skpre) \n",
    "import csv\n",
    "from sklearn import tree\n",
    "from sklearn.model_selection import GridSearchCV\n",
    "\n",
    "from sklearn.linear_model import LinearRegression\n",
    "from sklearn.linear_model import Lasso\n",
    "from sklearn.linear_model import ElasticNet\n",
    "from sklearn.tree import DecisionTreeRegressor\n",
    "from sklearn.neighbors import KNeighborsRegressor\n",
    "from sklearn.ensemble import GradientBoostingRegressor\n",
    "\n",
    "import numpy as np\n",
    "import pandas as pd\n",
    "from sklearn import datasets\n",
    "import seaborn as sns\n",
    "from sklearn.feature_selection import RFE\n",
    "from sklearn.model_selection import train_test_split\n",
    "from sklearn.model_selection import cross_val_score\n",
    "from sklearn.metrics import mean_squared_error\n",
    "from sklearn.model_selection import KFold\n",
    "from sklearn.pipeline import Pipeline\n",
    "from sklearn.preprocessing import StandardScaler\n",
    "import matplotlib.pyplot as plt"
   ]
  },
  {
   "cell_type": "markdown",
   "metadata": {},
   "source": [
    "### Step 2\n",
    "Read in the .csv files and create DataFrames"
   ]
  },
  {
   "cell_type": "code",
   "execution_count": 24,
   "metadata": {},
   "outputs": [],
   "source": [
    "data_train_df = pd.read_csv(\"train.csv\") \n",
    "test_df = pd.read_csv(\"test.csv\")\n",
    "data_train_ft = data_train_df.drop('PTS', axis=1)\n",
    "data_train_tgt = data_train_df[\"PTS\"]"
   ]
  },
  {
   "cell_type": "markdown",
   "metadata": {},
   "source": [
    "### Step 3\n",
    "Focus down to the features we think will have the largest impact on points scored. \n",
    "\n",
    "We tried to stick to more of the physical attributes like age or height over subjective factors, like city or roster status. We believe points are more about the players themselves than the citys/schools they play for.\n",
    "As well as including whether they are in the NBA or not, active, and the draft selection. Lastly PIE seems to have the greatest impact, even though there are not a lot of them in the data. "
   ]
  },
  {
   "cell_type": "code",
   "execution_count": 25,
   "metadata": {},
   "outputs": [
    {
     "name": "stdout",
     "output_type": "stream",
     "text": [
      "id                                    int64\n",
      "FIRST_NAME                           object\n",
      "LAST_NAME                            object\n",
      "DISPLAY_FIRST_LAST                   object\n",
      "DISPLAY_LAST_COMMA_FIRST             object\n",
      "DISPLAY_FI_LAST                      object\n",
      "PLAYER_SLUG                          object\n",
      "BIRTHDATE                            object\n",
      "SCHOOL                               object\n",
      "COUNTRY                              object\n",
      "LAST_AFFILIATION                     object\n",
      "HEIGHT                              float64\n",
      "WEIGHT                              float64\n",
      "SEASON_EXP                            int64\n",
      "JERSEY                               object\n",
      "POSITION                             object\n",
      "ROSTERSTATUS                         object\n",
      "GAMES_PLAYED_CURRENT_SEASON_FLAG     object\n",
      "TEAM_ID                               int64\n",
      "TEAM_NAME                            object\n",
      "TEAM_ABBREVIATION                    object\n",
      "TEAM_CODE                            object\n",
      "TEAM_CITY                            object\n",
      "PLAYERCODE                           object\n",
      "FROM_YEAR                             int64\n",
      "TO_YEAR                               int64\n",
      "DLEAGUE_FLAG                         object\n",
      "NBA_FLAG                             object\n",
      "GAMES_PLAYED_FLAG                    object\n",
      "DRAFT_YEAR                           object\n",
      "DRAFT_ROUND                          object\n",
      "DRAFT_NUMBER                         object\n",
      "AST                                 float64\n",
      "REB                                 float64\n",
      "ALL_STAR_APPEARANCES                float64\n",
      "PIE                                 float64\n",
      "dtype: object\n",
      "     id FIRST_NAME   LAST_NAME  DISPLAY_FIRST_LAST DISPLAY_LAST_COMMA_FIRST  \\\n",
      "0  2682      David      Vaughn        David Vaughn            Vaughn, David   \n",
      "1  1486    Javaris  Crittenton  Javaris Crittenton      Crittenton, Javaris   \n",
      "2   595         Ed        Gray             Ed Gray                 Gray, Ed   \n",
      "3   940     Rakeem   Christmas    Rakeem Christmas        Christmas, Rakeem   \n",
      "4   645    Stanley     Johnson     Stanley Johnson         Johnson, Stanley   \n",
      "\n",
      "  DISPLAY_FI_LAST         PLAYER_SLUG            BIRTHDATE        SCHOOL  \\\n",
      "0       D. Vaughn        david-vaughn  1973-03-23T00:00:00       Memphis   \n",
      "1   J. Crittenton  javaris-crittenton  1987-12-31T00:00:00  Georgia Tech   \n",
      "2         E. Gray             ed-gray  1975-09-27T00:00:00    California   \n",
      "3    R. Christmas    rakeem-christmas  1991-12-01T00:00:00      Syracuse   \n",
      "4      S. Johnson     stanley-johnson  1996-05-29T00:00:00       Arizona   \n",
      "\n",
      "  COUNTRY  ... NBA_FLAG  GAMES_PLAYED_FLAG  DRAFT_YEAR  DRAFT_ROUND  \\\n",
      "0     USA  ...        Y                  Y        1995            1   \n",
      "1     USA  ...        Y                  Y        2007            1   \n",
      "2     USA  ...        Y                  Y        1997            1   \n",
      "3     USA  ...        Y                  Y        2015            2   \n",
      "4     USA  ...        Y                  Y        2015            1   \n",
      "\n",
      "  DRAFT_NUMBER                  AST                  REB ALL_STAR_APPEARANCES  \\\n",
      "0           25               0.3000               3.1000               0.0000   \n",
      "1           19               1.8000               2.4000               0.0000   \n",
      "2           22               0.8000               1.2000               0.0000   \n",
      "3           36               0.1000               1.9000               0.0000   \n",
      "4            8               1.2000               2.2000                  NaN   \n",
      "\n",
      "                   PIE                  PTS  \n",
      "0                  NaN               3.9400  \n",
      "1                  NaN               6.3400  \n",
      "2                  NaN               7.2400  \n",
      "3                  NaN               3.1400  \n",
      "4               0.0500               3.9400  \n",
      "\n",
      "[5 rows x 37 columns]\n"
     ]
    }
   ],
   "source": [
    "features = ['BIRTHDATE',\\\n",
    "            'SEASON_EXP',\\\n",
    "            'HEIGHT',\n",
    "            # 'WEIGHT',\n",
    "            'AST',\n",
    "            'REB',\n",
    "            'ALL_STAR_APPEARANCES',\n",
    "            # 'NBA_FLAG',\n",
    "            'DRAFT_ROUND',\n",
    "            'DRAFT_NUMBER',\n",
    "            # 'DRAFT_YEAR',\n",
    "            # 'DLEAGUE_FLAG',\n",
    "            'GAMES_PLAYED_FLAG',\n",
    "            'ROSTERSTATUS',\n",
    "            'PIE'\n",
    "            ]\n",
    "\n",
    "# To see what kind of data we're working with\n",
    "print(data_train_ft.dtypes)\n",
    "print(data_train_df.head(5))\n",
    "\n",
    "# From looking at the data it looks like Draft and all star apperances should be useful. \n",
    "# Feauture used will need to be transformed into numbers in order to use the prediction models and have them be uniform≥ "
   ]
  },
  {
   "cell_type": "markdown",
   "metadata": {},
   "source": [
    "### Step 4\n",
    "Convert numbers to their correct formats and fill in any missing values. \n",
    "\n",
    "Missing values don't help us in our quest for accuracy, but filling them in as zero won't necessarily hurt us either. By filling them in, we can still use other parts of the player's data without having to throw away the entire entry."
   ]
  },
  {
   "cell_type": "code",
   "execution_count": 26,
   "metadata": {},
   "outputs": [
    {
     "name": "stdout",
     "output_type": "stream",
     "text": [
      "BIRTHDATE               float64\n",
      "SEASON_EXP              float64\n",
      "HEIGHT                  float64\n",
      "AST                     float64\n",
      "REB                     float64\n",
      "ALL_STAR_APPEARANCES    float64\n",
      "DRAFT_ROUND             float64\n",
      "DRAFT_NUMBER            float64\n",
      "GAMES_PLAYED_FLAG       float64\n",
      "ROSTERSTATUS            float64\n",
      "PIE                     float64\n",
      "dtype: object\n",
      "     id FIRST_NAME   LAST_NAME  DISPLAY_FIRST_LAST DISPLAY_LAST_COMMA_FIRST  \\\n",
      "0  2682      David      Vaughn        David Vaughn            Vaughn, David   \n",
      "1  1486    Javaris  Crittenton  Javaris Crittenton      Crittenton, Javaris   \n",
      "2   595         Ed        Gray             Ed Gray                 Gray, Ed   \n",
      "3   940     Rakeem   Christmas    Rakeem Christmas        Christmas, Rakeem   \n",
      "4   645    Stanley     Johnson     Stanley Johnson         Johnson, Stanley   \n",
      "\n",
      "  DISPLAY_FI_LAST         PLAYER_SLUG            BIRTHDATE        SCHOOL  \\\n",
      "0       D. Vaughn        david-vaughn  1973-03-23T00:00:00       Memphis   \n",
      "1   J. Crittenton  javaris-crittenton  1987-12-31T00:00:00  Georgia Tech   \n",
      "2         E. Gray             ed-gray  1975-09-27T00:00:00    California   \n",
      "3    R. Christmas    rakeem-christmas  1991-12-01T00:00:00      Syracuse   \n",
      "4      S. Johnson     stanley-johnson  1996-05-29T00:00:00       Arizona   \n",
      "\n",
      "  COUNTRY  ... NBA_FLAG  GAMES_PLAYED_FLAG  DRAFT_YEAR  DRAFT_ROUND  \\\n",
      "0     USA  ...        Y                  Y        1995            1   \n",
      "1     USA  ...        Y                  Y        2007            1   \n",
      "2     USA  ...        Y                  Y        1997            1   \n",
      "3     USA  ...        Y                  Y        2015            2   \n",
      "4     USA  ...        Y                  Y        2015            1   \n",
      "\n",
      "  DRAFT_NUMBER                  AST                  REB ALL_STAR_APPEARANCES  \\\n",
      "0           25               0.3000               3.1000               0.0000   \n",
      "1           19               1.8000               2.4000               0.0000   \n",
      "2           22               0.8000               1.2000               0.0000   \n",
      "3           36               0.1000               1.9000               0.0000   \n",
      "4            8               1.2000               2.2000                  NaN   \n",
      "\n",
      "                   PIE                  PTS  \n",
      "0                  NaN               3.9400  \n",
      "1                  NaN               6.3400  \n",
      "2                  NaN               7.2400  \n",
      "3                  NaN               3.1400  \n",
      "4               0.0500               3.9400  \n",
      "\n",
      "[5 rows x 37 columns]\n"
     ]
    }
   ],
   "source": [
    "### Training Data transformations\n",
    "\n",
    "# replace Y and N to 0-Yes and 1-No \n",
    "data_train_ft['NBA_FLAG'].replace(['Y','N'],[0,1],inplace=True)\n",
    "# fill all NA values to be 1-No\n",
    "data_train_ft['NBA_FLAG'] = data_train_ft['NBA_FLAG'].fillna(1)\n",
    "# convert data to a floating type\n",
    "data_train_ft['NBA_FLAG'] = data_train_ft['NBA_FLAG'].astype(float)\n",
    "\n",
    "data_train_ft['ROSTERSTATUS'].replace(['Active','Inactive'],[0,1],inplace=True)\n",
    "data_train_ft['ROSTERSTATUS'] = data_train_ft['ROSTERSTATUS'].fillna(1)\n",
    "data_train_ft['ROSTERSTATUS'] = data_train_ft['ROSTERSTATUS'].astype(float)\n",
    "\n",
    "data_train_ft['DLEAGUE_FLAG'].replace(['Y','N'],[0,1],inplace=True)\n",
    "data_train_ft['DLEAGUE_FLAG'] = data_train_ft['DLEAGUE_FLAG'].fillna(1)\n",
    "data_train_ft['DLEAGUE_FLAG'] = data_train_ft['DLEAGUE_FLAG'].astype(float)\n",
    "\n",
    "data_train_ft['GAMES_PLAYED_FLAG'].replace(['Y','N'],[0,1],inplace=True)\n",
    "data_train_ft['GAMES_PLAYED_FLAG'] = data_train_ft['GAMES_PLAYED_FLAG'].fillna(1)\n",
    "data_train_ft['GAMES_PLAYED_FLAG'] = data_train_ft['GAMES_PLAYED_FLAG'].astype(float)\n",
    "\n",
    "data_train_ft['DRAFT_ROUND'].replace(['Undrafted', 'None'],[0, 0],inplace=True)\n",
    "data_train_ft['DRAFT_ROUND'] = data_train_ft['DRAFT_ROUND'].fillna(0)\n",
    "data_train_ft['DRAFT_ROUND'] = data_train_ft['DRAFT_ROUND'].astype(float)\n",
    "\n",
    "data_train_ft['DRAFT_NUMBER'].replace(['Undrafted', 'None'],[0, 0],inplace=True)\n",
    "data_train_ft['DRAFT_NUMBER'] = data_train_ft['DRAFT_NUMBER'].fillna(0)\n",
    "data_train_ft['DRAFT_NUMBER'] = data_train_ft['DRAFT_NUMBER'].astype(float)\n",
    "\n",
    "\n",
    "data_train_ft['PIE'] = data_train_ft['PIE'].fillna(0)\n",
    "data_train_ft['PIE'] = data_train_ft['PIE'].astype(float)\n",
    "\n",
    "data_train_ft['BIRTHDATE'] = pd.to_datetime(data_train_ft['BIRTHDATE'])\n",
    "data_train_ft['BIRTHDATE'] = 2022 - pd.DatetimeIndex(data_train_ft['BIRTHDATE']).year \n",
    "data_train_ft['BIRTHDATE'] = data_train_ft['BIRTHDATE'].fillna(0)\n",
    "data_train_ft['BIRTHDATE'] = data_train_ft['BIRTHDATE'].astype(float)\n",
    "\n",
    "data_train_ft['SEASON_EXP'] = data_train_ft['SEASON_EXP'].astype(float)\n",
    "data_train_ft['SEASON_EXP'] = data_train_ft['SEASON_EXP'].fillna(0)\n",
    "\n",
    "data_train_ft['DRAFT_YEAR'].replace(['Undrafted', 'None'],[0, 0],inplace=True)\n",
    "data_train_ft['DRAFT_YEAR'] = data_train_ft['DRAFT_YEAR'].astype(float)\n",
    "data_train_ft['DRAFT_YEAR'] = data_train_ft['DRAFT_YEAR'].fillna(0)\n",
    "\n",
    "#print(data_train_ft['BIRTHDATE'])\n",
    "#print(data_train_ft.describe())\n",
    "\n",
    "data_train_ft['AST'] = data_train_ft['AST'].fillna(0)\n",
    "data_train_ft['REB'] = data_train_ft['REB'].fillna(0)\n",
    "data_train_ft['ALL_STAR_APPEARANCES'] = data_train_ft['ALL_STAR_APPEARANCES'].fillna(0)\n",
    "data_train_ft['HEIGHT'] = data_train_ft['HEIGHT'].fillna(0)\n",
    "data_train_ft['WEIGHT'] = data_train_ft['WEIGHT'].fillna(0)\n",
    "data_train_ft = data_train_ft[features]\n",
    "# data_train_ft['DRAFT_ROUND'].astype(int)\n",
    "\n",
    "\n",
    "#### Testing Data\n",
    "\n",
    "test_df['NBA_FLAG'].replace(['Y','N'],[0,1],inplace=True)\n",
    "test_df['NBA_FLAG'] = test_df['NBA_FLAG'].fillna(1)\n",
    "test_df['NBA_FLAG'] = test_df['NBA_FLAG'].astype(float)\n",
    "\n",
    "test_df['ROSTERSTATUS'].replace(['Active','Inactive'],[0,1],inplace=True)\n",
    "test_df['ROSTERSTATUS'] = test_df['ROSTERSTATUS'].fillna(1)\n",
    "test_df['ROSTERSTATUS'] = test_df['ROSTERSTATUS'].astype(float)\n",
    "\n",
    "test_df['DLEAGUE_FLAG'].replace(['Y','N'],[0,1],inplace=True)\n",
    "test_df['DLEAGUE_FLAG'] = test_df['DLEAGUE_FLAG'].fillna(1)\n",
    "test_df['DLEAGUE_FLAG'] = test_df['DLEAGUE_FLAG'].astype(float)\n",
    "\n",
    "test_df['GAMES_PLAYED_FLAG'].replace(['Y','N'],[0,1],inplace=True)\n",
    "test_df['GAMES_PLAYED_FLAG'] = test_df['GAMES_PLAYED_FLAG'].fillna(1)\n",
    "test_df['GAMES_PLAYED_FLAG'] = test_df['GAMES_PLAYED_FLAG'].astype(float)\n",
    "\n",
    "test_df['DRAFT_ROUND'].replace(['Undrafted', 'None'],[0, 0],inplace=True)\n",
    "test_df['DRAFT_ROUND'] = test_df['DRAFT_ROUND'].fillna(0)\n",
    "test_df['DRAFT_ROUND'] = test_df['DRAFT_ROUND'].astype(float)\n",
    "\n",
    "test_df['DRAFT_NUMBER'].replace(['Undrafted', 'None'],[0, 0],inplace=True)\n",
    "test_df['DRAFT_NUMBER'] = test_df['DRAFT_NUMBER'].fillna(0)\n",
    "test_df['DRAFT_NUMBER'] = test_df['DRAFT_NUMBER'].astype(float)\n",
    "\n",
    "test_df['PIE'] = test_df['PIE'].fillna(0)\n",
    "test_df['PIE'] = test_df['PIE'].astype(float)\n",
    "\n",
    "test_df['BIRTHDATE'] = pd.to_datetime(test_df['BIRTHDATE'])\n",
    "test_df['BIRTHDATE'] = 2022 - pd.DatetimeIndex(test_df['BIRTHDATE']).year \n",
    "test_df['BIRTHDATE'] = test_df['BIRTHDATE'].astype(float)\n",
    "test_df['BIRTHDATE'] = test_df['BIRTHDATE'].fillna(0)\n",
    "\n",
    "test_df['SEASON_EXP'] = test_df['SEASON_EXP'].astype(float)\n",
    "test_df['SEASON_EXP'] = test_df['SEASON_EXP'].fillna(0)\n",
    "\n",
    "test_df['DRAFT_YEAR'].replace(['Undrafted', 'None'],[0, 0],inplace=True)\n",
    "test_df['DRAFT_YEAR'] = test_df['DRAFT_YEAR'].astype(float)\n",
    "test_df['DRAFT_YEAR'] = test_df['DRAFT_YEAR'].fillna(0)\n",
    "\n",
    "test_df['AST'] = test_df['AST'].fillna(0)\n",
    "test_df['REB'] = test_df['REB'].fillna(0)\n",
    "test_df['ALL_STAR_APPEARANCES'] = test_df['ALL_STAR_APPEARANCES'].fillna(0)\n",
    "test_df['HEIGHT'] = test_df['HEIGHT'].fillna(0)\n",
    "test_df['WEIGHT'] = test_df['WEIGHT'].fillna(0)\n",
    "\n",
    "# check to make sure data types are uniform\n",
    "print(data_train_ft.dtypes)\n",
    "print(data_train_df.head(5))\n",
    "pd.set_option('precision', 2)\n",
    "test_df = test_df[features]"
   ]
  },
  {
   "cell_type": "markdown",
   "metadata": {},
   "source": [
    "### Step 5\n",
    "Create a heat map to visualize trends present in the data."
   ]
  },
  {
   "cell_type": "code",
   "execution_count": 27,
   "metadata": {},
   "outputs": [
    {
     "data": {
      "image/png": "[encoded data removed]",
      "text/plain": [
       "<Figure size 288x216 with 2 Axes>"
      ]
     },
     "metadata": {},
     "output_type": "display_data"
    }
   ],
   "source": [
    "correlation_map = np.corrcoef(data_train_ft.values.T)\n",
    "sns.set(font_scale=1.0)\n",
    "heatmap = sns.heatmap(correlation_map, cbar=True, annot=True, square=True, fmt='.2f', yticklabels=features, xticklabels=features)\n",
    "\n",
    "plt.show()"
   ]
  },
  {
   "cell_type": "markdown",
   "metadata": {},
   "source": [
    "### Step 6\n",
    "Split the data into training and validation sets for use with cross-validation scoring. We split the data randomly to lower the chances of overfitting."
   ]
  },
  {
   "cell_type": "code",
   "execution_count": 28,
   "metadata": {},
   "outputs": [],
   "source": [
    "train_plus_validation_ftrs, test_ftrs, train_plus_validation_tgt, test_tgt = train_test_split (data_train_ft, data_train_tgt, test_size = 0.20,\n",
    "                                   random_state = 42)"
   ]
  },
  {
   "cell_type": "markdown",
   "metadata": {},
   "source": [
    "### Step 7\n",
    "This is another portion where accuracy is most directly influenced. We added as many models as possible (within reason) to ensure that we were covering all our bases to get the most accurate predictions."
   ]
  },
  {
   "cell_type": "code",
   "execution_count": 29,
   "metadata": {},
   "outputs": [
    {
     "name": "stdout",
     "output_type": "stream",
     "text": [
      "{'LR': LinearRegression(), 'CART': DecisionTreeRegressor(max_depth=10), 'KNN-1': KNeighborsRegressor(n_neighbors=1), 'KNN-3': KNeighborsRegressor(n_neighbors=3), 'KNN-5': KNeighborsRegressor(), 'KNN-7': KNeighborsRegressor(n_neighbors=7), 'KNN-9': KNeighborsRegressor(n_neighbors=9), 'KNN-11': KNeighborsRegressor(n_neighbors=11), 'KNN-13': KNeighborsRegressor(n_neighbors=13), 'KNN-15': KNeighborsRegressor(n_neighbors=15), 'KNN-17': KNeighborsRegressor(n_neighbors=17), 'KNN-19': KNeighborsRegressor(n_neighbors=19), 'KNN-21': KNeighborsRegressor(n_neighbors=21), 'KNN-23': KNeighborsRegressor(n_neighbors=23), 'KNN-25': KNeighborsRegressor(n_neighbors=25), 'KNN-27': KNeighborsRegressor(n_neighbors=27), 'KNN-29': KNeighborsRegressor(n_neighbors=29), 'KNN-31': KNeighborsRegressor(n_neighbors=31), 'GBR-25': GradientBoostingRegressor(n_estimators=25, random_state=21), 'GBR-45': GradientBoostingRegressor(n_estimators=45, random_state=21), 'GBR-65': GradientBoostingRegressor(n_estimators=65, random_state=21), 'GBR-85': GradientBoostingRegressor(n_estimators=85, random_state=21), 'GBR-105': GradientBoostingRegressor(n_estimators=105, random_state=21), 'GBR-125': GradientBoostingRegressor(n_estimators=125, random_state=21), 'GBR-145': GradientBoostingRegressor(n_estimators=145, random_state=21), 'GBR-165': GradientBoostingRegressor(n_estimators=165, random_state=21), 'GBR-185': GradientBoostingRegressor(n_estimators=185, random_state=21), 'GBR-205': GradientBoostingRegressor(n_estimators=205, random_state=21), 'GBR-225': GradientBoostingRegressor(n_estimators=225, random_state=21), 'GBR-245': GradientBoostingRegressor(n_estimators=245, random_state=21), 'GBR-265': GradientBoostingRegressor(n_estimators=265, random_state=21), 'GBR-285': GradientBoostingRegressor(n_estimators=285, random_state=21), 'GBR-305': GradientBoostingRegressor(n_estimators=305, random_state=21), 'GBR-325': GradientBoostingRegressor(n_estimators=325, random_state=21), 'GBR-345': GradientBoostingRegressor(n_estimators=345, random_state=21), 'Ridge (C=0.1)': Ridge(alpha=0.1), 'Lasso (C=0.25)': Lasso(alpha=0.25), 'Lasso (C=0.5)': Lasso(alpha=0.5), 'Lasso (C=0.75)': Lasso(alpha=0.75), 'Lasso (C=1.0)': Lasso(), 'Lasso (C=1.25)': Lasso(alpha=1.25), 'Lasso (C=1.5)': Lasso(alpha=1.5), 'Lasso (C=1.75)': Lasso(alpha=1.75), 'Lasso (C=2.0)': Lasso(alpha=2.0), 'Lasso (C=3.0)': Lasso(alpha=3.0), 'Lasso (C=4.0)': Lasso(alpha=4.0), 'Lasso (C=5.0)': Lasso(alpha=5.0), 'Lasso (C=10)': Lasso(alpha=10), 'Lasso (C=20)': Lasso(alpha=20)}\n"
     ]
    }
   ],
   "source": [
    "\n",
    "pipelines = \\\n",
    "    {\n",
    "    'LR' : LinearRegression(),\n",
    "    'CART' : DecisionTreeRegressor(max_depth=10)}\n",
    "for k in range(1,32,2):\n",
    "    pipelines[f'KNN-{k}'] = KNeighborsRegressor(n_neighbors=k)\n",
    "for i in range(25,350,20):\n",
    "    pipelines[f'GBR-{i}'] = GradientBoostingRegressor(random_state=21, n_estimators=i)\n",
    "alpha_value=0.1\n",
    "pipelines[f'Ridge (C={alpha_value})'] = linear_model.Ridge(alpha=alpha_value)\n",
    "values = [0.25, 0.50, 0.75, 1.0, 1.25, 1.50, 1.75, 2.0, 3.0, 4.0, 5.0, 10, 20]\n",
    "for alpha_value in values:\n",
    "    pipelines[f'Lasso (C={alpha_value})'] = linear_model.Lasso(alpha=alpha_value)\n",
    "print(pipelines)\n",
    "\n",
    "\n"
   ]
  },
  {
   "cell_type": "markdown",
   "metadata": {},
   "source": [
    "### Step 8\n",
    "Using different standardizing pipelines, run multiple cross-validation tests on the data splits to find the best performing model.\n",
    "\n",
    "Further refine the selection of best model by comparing scores."
   ]
  },
  {
   "cell_type": "code",
   "execution_count": 30,
   "metadata": {},
   "outputs": [
    {
     "name": "stdout",
     "output_type": "stream",
     "text": [
      "LR: 2.762\n",
      "CART: 2.549\n",
      "KNN-1: 3.732\n",
      "KNN-3: 3.100\n",
      "KNN-5: 2.984\n",
      "KNN-7: 2.996\n",
      "KNN-9: 3.005\n",
      "KNN-11: 3.026\n",
      "KNN-13: 3.069\n",
      "KNN-15: 3.103\n",
      "KNN-17: 3.138\n",
      "KNN-19: 3.174\n",
      "KNN-21: 3.211\n",
      "KNN-23: 3.221\n",
      "KNN-25: 3.249\n",
      "KNN-27: 3.264\n",
      "KNN-29: 3.278\n",
      "KNN-31: 3.295\n",
      "GBR-25: 2.221\n",
      "GBR-45: 2.111\n",
      "GBR-65: 2.094\n",
      "GBR-85: 2.088\n",
      "GBR-105: 2.090\n",
      "GBR-125: 2.093\n",
      "GBR-145: 2.095\n",
      "GBR-165: 2.097\n",
      "GBR-185: 2.097\n",
      "GBR-205: 2.100\n",
      "GBR-225: 2.100\n",
      "GBR-245: 2.102\n",
      "GBR-265: 2.104\n",
      "GBR-285: 2.107\n",
      "GBR-305: 2.109\n",
      "GBR-325: 2.113\n",
      "GBR-345: 2.115\n",
      "Ridge (C=0.1): 2.652\n",
      "Lasso (C=0.25): 2.580\n",
      "Lasso (C=0.5): 2.612\n",
      "Lasso (C=0.75): 2.665\n",
      "Lasso (C=1.0): 2.730\n",
      "Lasso (C=1.25): 2.799\n",
      "Lasso (C=1.5): 2.880\n",
      "Lasso (C=1.75): 2.974\n",
      "Lasso (C=2.0): 3.078\n",
      "Lasso (C=3.0): 3.558\n",
      "Lasso (C=4.0): 3.735\n",
      "Lasso (C=5.0): 3.902\n",
      "Lasso (C=10): 4.362\n",
      "Lasso (C=20): 4.814\n",
      "\n",
      "Best model: GBR-85 (accuracy = 2.088)\n"
     ]
    }
   ],
   "source": [
    "\n",
    "accuracy_scores = {}\n",
    "for pipeline_name in pipelines:\n",
    "    #loo = skms.LeaveOneOut()\n",
    "    scores = skms.cross_val_score(pipelines[pipeline_name],\n",
    "                                  train_plus_validation_ftrs,\n",
    "                                  train_plus_validation_tgt,\n",
    "                                  #cv=loo,\n",
    "                                  cv=10,\n",
    "                                  scoring='neg_mean_squared_error')\n",
    "    scores = np.sqrt(-scores.mean())\n",
    "    accuracy_scores[pipeline_name] = scores\n",
    "    print(f'{pipeline_name}: {scores:.3f}')\n",
    "\n",
    "best_model_name = min(accuracy_scores,key=accuracy_scores.get)\n",
    "print(f'\\nBest model: {best_model_name} (accuracy = {accuracy_scores[best_model_name]:.3f})')\n",
    "final_model = pipelines[best_model_name]\n",
    "\n",
    "## Best model sees to be GBR-85 (accuracy = 2.088)"
   ]
  },
  {
   "cell_type": "markdown",
   "metadata": {},
   "source": [
    "### Step 9\n",
    "Rescale the data and fit the model."
   ]
  },
  {
   "cell_type": "code",
   "execution_count": 31,
   "metadata": {},
   "outputs": [],
   "source": [
    "scaler = StandardScaler().fit(train_plus_validation_ftrs)\n",
    "rescaled_train_plus_validation_ftrs = scaler.transform(train_plus_validation_ftrs)\n",
    "nba_scores_fit = final_model.fit(rescaled_train_plus_validation_ftrs, \n",
    "                                   train_plus_validation_tgt)"
   ]
  },
  {
   "cell_type": "markdown",
   "metadata": {},
   "source": [
    "### Step 10\n",
    "Scale the data and predict points on the selected model and save it in a temporary .csv for analysis."
   ]
  },
  {
   "cell_type": "code",
   "execution_count": 32,
   "metadata": {},
   "outputs": [
    {
     "name": "stdout",
     "output_type": "stream",
     "text": [
      "Using model: GradientBoostingRegressor(n_estimators=85, random_state=21) and features: ['BIRTHDATE', 'SEASON_EXP', 'HEIGHT', 'AST', 'REB', 'ALL_STAR_APPEARANCES', 'DRAFT_ROUND', 'DRAFT_NUMBER', 'GAMES_PLAYED_FLAG', 'ROSTERSTATUS', 'PIE']\n"
     ]
    }
   ],
   "source": [
    "\n",
    "rescaled_test_ftrs = scaler.transform(test_df)\n",
    "predictions = nba_scores_fit.predict(rescaled_test_ftrs)\n",
    "# score = np.sqrt(metrics.mean_squared_error(predictions, tes))\n",
    "print(f'Using model: {final_model} and features: {features}')\n",
    "# print(f'Final score: {score:.3f}')\n",
    "# predictions = model.predict(rescaled_test_ftrs)\n",
    "\n",
    "# compare = pd.DataFrame({'Prediction': predictions, 'Test Data' : test_tgt})\n",
    "# compare.head(10)\n",
    "# This is just using the test.csv to setup a dataframe of the correct size\n",
    "# and indicies (the \"id\" field).\n",
    "make_submission_df = pd.read_csv(\"test.csv\")\n",
    "# drop all columns except 'id'\n",
    "make_submission_df = make_submission_df[['id']]\n",
    "# make sure the column of ID's that we just read in is the index column\n",
    "make_submission_df = make_submission_df.set_index('id')"
   ]
  },
  {
   "cell_type": "markdown",
   "metadata": {},
   "source": [
    "### Step 11\n",
    "Add our predictions to a submission file and save the final .csv"
   ]
  },
  {
   "cell_type": "code",
   "execution_count": 33,
   "metadata": {},
   "outputs": [],
   "source": [
    "make_submission_df['PTS'] = predictions\n",
    "make_submission_df.to_csv('submission.csv',sep=',', float_format='%.2f')"
   ]
  }
 ],
 "metadata": {
  "kernelspec": {
   "display_name": "Python3",
   "language": "python",
   "name": "python3"
  },
  "language_info": {
   "codemirror_mode": {
    "name": "ipython",
    "version": 3
   },
   "file_extension": ".py",
   "mimetype": "text/x-python",
   "name": "python",
   "nbconvert_exporter": "python",
   "pygments_lexer": "ipython3",
   "version": "3.9.7"
  }
 },
 "nbformat": 4,
 "nbformat_minor": 2
}
