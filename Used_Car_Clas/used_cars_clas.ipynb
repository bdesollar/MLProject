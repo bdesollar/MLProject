{
 "cells": [
  {
   "cell_type": "markdown",
   "metadata": {},
   "source": [
    "# Bank Churners\n",
    "**ML Project 1 - Spring 2022**\n",
    "\n",
    "Collaborators: Ben DeSollar and Matt McDonnell\n",
    "\n",
    "Descriptions: The first part should be a description which models/classifiers/regressors achieved the best \n",
    "    results with your datasets datasets, and what you did to improve those results along the way.\n",
    "\n",
    "    - Through research we found that a called RandomForestClassifier worked the best after testing a couple different model including\n",
    "    Niave Bayes and DecisionTreeClassifier. We improved our results by modifying our feature selection to include as many features as we \n",
    "    could to help predict the best values. Things like gender and Total relationship count did not seem as impptant as education level or\n",
    "    credit limit. By modifying our featuiues during testing we were able to find the best model predictions.\n",
    "\n"
   ]
  },
  {
   "cell_type": "markdown",
   "metadata": {},
   "source": [
    "### Step 1\n",
    "Import the necessary packages and frameworks."
   ]
  },
  {
   "cell_type": "code",
   "execution_count": 193,
   "metadata": {},
   "outputs": [],
   "source": [
    "import numpy as np\n",
    "from mlwpy import *\n",
    "import matplotlib.pyplot as plt\n",
    "import matplotlib as mpl\n",
    "import pandas as pd\n",
    "import seaborn as sns\n",
    "from sklearn import (datasets, neighbors,\n",
    "                     naive_bayes,\n",
    "                     model_selection as skms,\n",
    "                     linear_model, dummy,\n",
    "                     metrics,\n",
    "                     pipeline,\n",
    "                     preprocessing as skpre) \n",
    "import csv\n",
    "from sklearn import tree\n",
    "from sklearn.ensemble import RandomForestClassifier"
   ]
  },
  {
   "cell_type": "markdown",
   "metadata": {},
   "source": [
    "### Step 2\n",
    "Read in .csv files and save as DataFrames."
   ]
  },
  {
   "cell_type": "code",
   "execution_count": 194,
   "metadata": {},
   "outputs": [],
   "source": [
    "data_train_df = pd.read_csv(\"cars_class_train.csv\", nrows=10000) \n",
    "data_test_df = pd.read_csv(\"cars_class_test.csv\", nrows=10000)\n",
    "data_train_ft = data_train_df.drop('price', axis=1)\n",
    "data_train_tgt = data_train_df[\"price\"]"
   ]
  },
  {
   "cell_type": "markdown",
   "metadata": {},
   "source": [
    "### Step 3\n",
    "Work with only the necessary features. We tried to choose features that were only about the users finances and not cateogies like gender or relationship count.\n",
    "Yet things like marital status and education level seemed to have an impact on the prediction scores. "
   ]
  },
  {
   "cell_type": "code",
   "execution_count": 195,
   "metadata": {},
   "outputs": [
    {
     "name": "stdout",
     "output_type": "stream",
     "text": [
      "Unnamed: 0        int64\n",
      "url              object\n",
      "region           object\n",
      "region_url       object\n",
      "year            float64\n",
      "manufacturer     object\n",
      "model            object\n",
      "condition        object\n",
      "cylinders        object\n",
      "fuel             object\n",
      "odometer        float64\n",
      "title_status     object\n",
      "transmission     object\n",
      "VIN              object\n",
      "drive            object\n",
      "size             object\n",
      "type             object\n",
      "paint_color      object\n",
      "image_url        object\n",
      "description      object\n",
      "state            object\n",
      "lat             float64\n",
      "long            float64\n",
      "posting_date     object\n",
      "dtype: object\n",
      "['ram' 'chevrolet' 'toyota' 'honda' 'ford' nan 'kia' 'mazda' 'dodge'\n",
      " 'mercedes-benz' 'gmc' 'nissan' 'jeep' 'mini' 'bmw' 'audi' 'hyundai'\n",
      " 'mercury' 'volvo' 'chrysler' 'volkswagen' 'subaru' 'infiniti'\n",
      " 'mitsubishi' 'cadillac' 'lincoln' 'rover' 'buick' 'alfa-romeo' 'lexus'\n",
      " 'tesla' 'saturn' 'acura' 'pontiac' 'jaguar' 'fiat' 'porsche' 'ferrari'\n",
      " 'land rover' 'harley-davidson' 'datsun' 'aston-martin']\n"
     ]
    }
   ],
   "source": [
    "features = ['year',\\\n",
    "            'odometer',\n",
    "            #'lat',\n",
    "            #'long',\n",
    "            'drive',\n",
    "            'size',\n",
    "            'type',\n",
    "            #'posting_date',\n",
    "            'fuel',\n",
    "            'condition',\n",
    "            # 'model',\n",
    "            'paint_color',\n",
    "            'cylinders',\n",
    "            'manufacturer'\n",
    "            ]\n",
    "\n",
    "# To see what kind of data we're working with\n",
    "print(data_train_ft.dtypes)\n",
    "print(data_train_ft['manufacturer'].unique())\n",
    "# print(data_train_ft.head(5))"
   ]
  },
  {
   "cell_type": "markdown",
   "metadata": {},
   "source": [
    "### Step 4\n",
    "Work with a practice estimate (median age). Convert features to numerical values as necessary. \n",
    "\n",
    "For now, let's use a simple approach to estimate the age (and consider revisiting this estimate later) when it is missing by using the median from the other samples.\n",
    "\n",
    "We also replaced any missing data in the dataset."
   ]
  },
  {
   "cell_type": "code",
   "execution_count": 196,
   "metadata": {},
   "outputs": [
    {
     "name": "stdout",
     "output_type": "stream",
     "text": [
      "Column (year) : [2011. 1954. 2013. 2014. 2019. 2012. 2008. 2005. 2002. 2006. 1988. 2017.\n",
      " 2020. 2018. 1997. 2010. 2015. 1966. 2016. 2009. 2007. 2000. 1969. 2001.\n",
      " 2004. 1965. 2003. 1978. 1998. 1995. 1996. 1980. 1984. 1989. 1974. 1999.\n",
      " 1976.    0. 1979. 1993. 1961. 1994. 1950. 1992. 1946. 1991. 1975. 1968.\n",
      " 1932. 1963. 1983. 1985. 1941. 1926. 1970. 1972. 1981. 1931. 1940. 1990.\n",
      " 1958. 1977. 1967. 1959. 1973. 1936. 1987. 1964. 1930. 1960. 1986. 1949.\n",
      " 2021. 1915. 1982. 1951. 1955. 1957. 1956. 1935. 1948. 1927. 1953. 1962.\n",
      " 1971. 1938. 1925.]\n",
      "Column (odometer) : [155815.  72953.      0. ... 137248.  80850.  62960.]\n",
      "Column (drive) : [1 2 3 0]\n",
      "Column (size) : [0 1 2 3 4]\n",
      "Column (type) : [ 1  2  3  4  5  6  7  8  9 10 11 12 13]\n",
      "Column (fuel) : [0 1 2 3 4]\n",
      "Column (condition) : [0 1 2 3 4]\n",
      "Column (paint_color) : [0 1 2 3 4]\n",
      "Column (cylinders) : [0 1 2 3 4]\n",
      "Column (manufacturer) : [ 0  1  2  3  4  5  6  7  8  9 10 11 12 13 14 15 16 17 18 19 20 21 22 23\n",
      " 24 25 26 27 28 29 30 31 32 33 34 35 36 37 38 39 40 41]\n"
     ]
    }
   ],
   "source": [
    "\n",
    "\n",
    "data_train_ft['year'] = data_train_ft['year'].fillna(0)\n",
    "\n",
    "data_train_ft['odometer'] = data_train_ft['odometer'].fillna(0)\n",
    "\n",
    "data_train_ft['lat'] = data_train_ft['lat'].fillna(0)\n",
    "\n",
    "data_train_ft['long'] = data_train_ft['long'].fillna(0)\n",
    "\n",
    "data_train_ft['drive'] = data_train_ft['drive'].fillna(0)\n",
    "data_train_ft['drive'].replace(['4wd','rwd','fwd'],[1, 2, 3],inplace=True)\n",
    "\n",
    "data_train_ft['size'] = data_train_ft['size'].fillna(0)\n",
    "data_train_ft['size'].replace(['full-size','compact','mid-size','sub-compact'],[1, 2, 3, 4],inplace=True)\n",
    "\n",
    "data_train_ft['fuel'] = data_train_ft['size'].fillna(0)\n",
    "data_train_ft['fuel'].replace(['gas','diesel','other','hybrid','electric'],[1, 2, 3, 4, 5],inplace=True)\n",
    "\n",
    "data_train_ft['condition'] = data_train_ft['size'].fillna(0)\n",
    "data_train_ft['condition'].replace(['excellent','fair','like new','good','new','salvage'],[1, 2, 3, 4, 5, 6],inplace=True)\n",
    "\n",
    "data_train_ft['type'] = data_train_ft['type'].fillna(0)\n",
    "data_train_ft['type'].replace(['truck','coupe','pickup','SUV','sedan','offroad','hatchback','van',\\\n",
    " 'other','mini-van','wagon','convertible','bus'],[1, 2, 3, 4, 5, 6, 7, 8, 9, 10, 11, 12, 13],inplace=True)\n",
    "\n",
    "data_train_ft['title_status'] = data_train_ft['size'].fillna(0)\n",
    "data_train_ft['title_status'].replace(['clean','rebuilt','salvage','lien','missing','parts only'],[1, 2, 3, 4, 5, 6],inplace=True)\n",
    "\n",
    "\n",
    "data_train_ft['paint_color'] = data_train_ft['size'].fillna(0)\n",
    "data_train_ft['paint_color'].replace(['green','white','silver','black','red','yellow','grey','blue'\\\n",
    " ,'custom','orange','brown','purple'],[1, 2, 3, 4, 5, 6, 7, 8, 9, 10, 11, 12],inplace=True)\n",
    "\n",
    "data_train_ft['cylinders'] = data_train_ft['size'].fillna(0)\n",
    "data_train_ft['cylinders'].replace(['6 cylinders','4 cylinders','8 cylinders','5 cylinders',\\\n",
    " '10 cylinders','3 cylinders','12 cylinders','other'],[1, 2, 3, 4, 5, 6, 7, 8],inplace=True)\n",
    "\n",
    "\n",
    "data_train_ft['posting_date'] = pd.to_datetime(data_train_ft['posting_date'], utc=True)\n",
    "data_train_ft['posting_date'] = pd.to_datetime(data_train_ft['posting_date'])\n",
    "data_train_ft['posting_date'] = (pd.DatetimeIndex(data_train_ft['posting_date']).day) + (pd.DatetimeIndex(data_train_ft['posting_date']).month*12) + ((2022 - pd.DatetimeIndex(data_train_ft['posting_date']).year)*365)\n",
    "data_train_ft['posting_date'] = data_train_ft['posting_date'].astype(float)\n",
    "data_train_ft['posting_date'] = data_train_ft['posting_date'].fillna(0)\n",
    "\n",
    "#data_train_ft['manufacturer'] = data_train_ft['manufacturer'].fillna(0)\n",
    "i = 0\n",
    "for unique_val in data_train_ft['manufacturer'].unique():\n",
    "    data_train_ft['manufacturer'].replace([unique_val],[i],inplace=True)\n",
    "    i+=1\n",
    "\n",
    "\n",
    "data_train_ft = data_train_ft[features]\n",
    "#print(data_train_ft.dtypes)\n",
    "#print(data_train_ft.head(5))\n",
    "for col in data_train_ft:\n",
    "    print(f'Column ({col}) : {data_train_ft[col].unique()}')"
   ]
  },
  {
   "cell_type": "markdown",
   "metadata": {},
   "source": [
    "Here is an updated table after sorting through these features."
   ]
  },
  {
   "cell_type": "code",
   "execution_count": 197,
   "metadata": {},
   "outputs": [
    {
     "name": "stdout",
     "output_type": "stream",
     "text": [
      "data_train_df:\n"
     ]
    },
    {
     "data": {
      "text/html": [
       "<div>\n",
       "<style scoped>\n",
       "    .dataframe tbody tr th:only-of-type {\n",
       "        vertical-align: middle;\n",
       "    }\n",
       "\n",
       "    .dataframe tbody tr th {\n",
       "        vertical-align: top;\n",
       "    }\n",
       "\n",
       "    .dataframe thead th {\n",
       "        text-align: right;\n",
       "    }\n",
       "</style>\n",
       "<table border=\"1\" class=\"dataframe\">\n",
       "  <thead>\n",
       "    <tr style=\"text-align: right;\">\n",
       "      <th></th>\n",
       "      <th>Unnamed: 0</th>\n",
       "      <th>url</th>\n",
       "      <th>region</th>\n",
       "      <th>region_url</th>\n",
       "      <th>price</th>\n",
       "      <th>year</th>\n",
       "      <th>manufacturer</th>\n",
       "      <th>model</th>\n",
       "      <th>condition</th>\n",
       "      <th>cylinders</th>\n",
       "      <th>...</th>\n",
       "      <th>drive</th>\n",
       "      <th>size</th>\n",
       "      <th>type</th>\n",
       "      <th>paint_color</th>\n",
       "      <th>image_url</th>\n",
       "      <th>description</th>\n",
       "      <th>state</th>\n",
       "      <th>lat</th>\n",
       "      <th>long</th>\n",
       "      <th>posting_date</th>\n",
       "    </tr>\n",
       "  </thead>\n",
       "  <tbody>\n",
       "    <tr>\n",
       "      <th>0</th>\n",
       "      <td>154496</td>\n",
       "      <td>https://desmoines.craigslist.org/ctd/d/des-moi...</td>\n",
       "      <td>des moines</td>\n",
       "      <td>https://desmoines.craigslist.org</td>\n",
       "      <td>8995</td>\n",
       "      <td>2,011.0000</td>\n",
       "      <td>ram</td>\n",
       "      <td>dakota</td>\n",
       "      <td>excellent</td>\n",
       "      <td>6 cylinders</td>\n",
       "      <td>...</td>\n",
       "      <td>4wd</td>\n",
       "      <td>NaN</td>\n",
       "      <td>truck</td>\n",
       "      <td>NaN</td>\n",
       "      <td>https://images.craigslist.org/00t0t_cojzh6OLdk...</td>\n",
       "      <td>NaN</td>\n",
       "      <td>ia</td>\n",
       "      <td>41.6002</td>\n",
       "      <td>-93.5701</td>\n",
       "      <td>2020-11-18T11:04:29-0600</td>\n",
       "    </tr>\n",
       "    <tr>\n",
       "      <th>1</th>\n",
       "      <td>340882</td>\n",
       "      <td>https://pittsburgh.craigslist.org/cto/d/greens...</td>\n",
       "      <td>pittsburgh</td>\n",
       "      <td>https://pittsburgh.craigslist.org</td>\n",
       "      <td>4500</td>\n",
       "      <td>1,954.0000</td>\n",
       "      <td>chevrolet</td>\n",
       "      <td>210</td>\n",
       "      <td>fair</td>\n",
       "      <td>6 cylinders</td>\n",
       "      <td>...</td>\n",
       "      <td>rwd</td>\n",
       "      <td>full-size</td>\n",
       "      <td>coupe</td>\n",
       "      <td>green</td>\n",
       "      <td>https://images.craigslist.org/00101_7LqQvihSgb...</td>\n",
       "      <td>1954 Chevy 210 two door sedan. The car is all ...</td>\n",
       "      <td>pa</td>\n",
       "      <td>40.3074</td>\n",
       "      <td>-79.5424</td>\n",
       "      <td>2020-11-30T10:21:12-0500</td>\n",
       "    </tr>\n",
       "    <tr>\n",
       "      <th>2</th>\n",
       "      <td>57036</td>\n",
       "      <td>https://slo.craigslist.org/ctd/d/san-luis-obis...</td>\n",
       "      <td>san luis obispo</td>\n",
       "      <td>https://slo.craigslist.org</td>\n",
       "      <td>16495</td>\n",
       "      <td>2,013.0000</td>\n",
       "      <td>toyota</td>\n",
       "      <td>tacoma regular cab</td>\n",
       "      <td>excellent</td>\n",
       "      <td>4 cylinders</td>\n",
       "      <td>...</td>\n",
       "      <td>rwd</td>\n",
       "      <td>compact</td>\n",
       "      <td>truck</td>\n",
       "      <td>white</td>\n",
       "      <td>https://images.craigslist.org/00E0E_3doy3u82Gh...</td>\n",
       "      <td>2013 TOYOTA TACOMA REGULAR CAB 2.7L 4 CYLINDER...</td>\n",
       "      <td>ca</td>\n",
       "      <td>35.2468</td>\n",
       "      <td>-120.6676</td>\n",
       "      <td>2020-11-13T21:09:40-0800</td>\n",
       "    </tr>\n",
       "    <tr>\n",
       "      <th>3</th>\n",
       "      <td>244897</td>\n",
       "      <td>https://raleigh.craigslist.org/ctd/d/raleigh-2...</td>\n",
       "      <td>raleigh / durham / CH</td>\n",
       "      <td>https://raleigh.craigslist.org</td>\n",
       "      <td>14900</td>\n",
       "      <td>2,014.0000</td>\n",
       "      <td>honda</td>\n",
       "      <td>accord coupe</td>\n",
       "      <td>like new</td>\n",
       "      <td>6 cylinders</td>\n",
       "      <td>...</td>\n",
       "      <td>fwd</td>\n",
       "      <td>compact</td>\n",
       "      <td>coupe</td>\n",
       "      <td>silver</td>\n",
       "      <td>https://images.craigslist.org/00Z0Z_1IqAlFGmg6...</td>\n",
       "      <td>We are selling a 2014 Honda Accord EX-L Coupe ...</td>\n",
       "      <td>nc</td>\n",
       "      <td>35.7489</td>\n",
       "      <td>-78.6434</td>\n",
       "      <td>2020-11-25T17:02:03-0500</td>\n",
       "    </tr>\n",
       "    <tr>\n",
       "      <th>4</th>\n",
       "      <td>206753</td>\n",
       "      <td>https://porthuron.craigslist.org/ctd/d/point-e...</td>\n",
       "      <td>port huron</td>\n",
       "      <td>https://porthuron.craigslist.org</td>\n",
       "      <td>35990</td>\n",
       "      <td>2,019.0000</td>\n",
       "      <td>ford</td>\n",
       "      <td>f150 supercrew cab xlt</td>\n",
       "      <td>good</td>\n",
       "      <td>6 cylinders</td>\n",
       "      <td>...</td>\n",
       "      <td>NaN</td>\n",
       "      <td>NaN</td>\n",
       "      <td>pickup</td>\n",
       "      <td>black</td>\n",
       "      <td>https://images.craigslist.org/00T0T_cLmS54epjE...</td>\n",
       "      <td>Carvana is the safer way to buy a car During t...</td>\n",
       "      <td>mi</td>\n",
       "      <td>43.0172</td>\n",
       "      <td>-82.4510</td>\n",
       "      <td>2020-11-22T11:09:41-0500</td>\n",
       "    </tr>\n",
       "    <tr>\n",
       "      <th>5</th>\n",
       "      <td>346078</td>\n",
       "      <td>https://york.craigslist.org/ctd/d/hanover-2012...</td>\n",
       "      <td>york</td>\n",
       "      <td>https://york.craigslist.org</td>\n",
       "      <td>12900</td>\n",
       "      <td>2,012.0000</td>\n",
       "      <td>toyota</td>\n",
       "      <td>rav4 limited</td>\n",
       "      <td>NaN</td>\n",
       "      <td>4 cylinders</td>\n",
       "      <td>...</td>\n",
       "      <td>4wd</td>\n",
       "      <td>NaN</td>\n",
       "      <td>SUV</td>\n",
       "      <td>black</td>\n",
       "      <td>https://images.craigslist.org/00r0r_jGSql9WYuT...</td>\n",
       "      <td>2012 Toyota RAV4 Limited STOCK #: S01382   Bad...</td>\n",
       "      <td>pa</td>\n",
       "      <td>39.8264</td>\n",
       "      <td>-76.9991</td>\n",
       "      <td>2020-11-10T17:10:42-0500</td>\n",
       "    </tr>\n",
       "    <tr>\n",
       "      <th>6</th>\n",
       "      <td>306950</td>\n",
       "      <td>https://toledo.craigslist.org/ctd/d/bowling-gr...</td>\n",
       "      <td>toledo</td>\n",
       "      <td>https://toledo.craigslist.org</td>\n",
       "      <td>6999</td>\n",
       "      <td>2,014.0000</td>\n",
       "      <td>chevrolet</td>\n",
       "      <td>cruze</td>\n",
       "      <td>good</td>\n",
       "      <td>4 cylinders</td>\n",
       "      <td>...</td>\n",
       "      <td>fwd</td>\n",
       "      <td>NaN</td>\n",
       "      <td>sedan</td>\n",
       "      <td>red</td>\n",
       "      <td>https://images.craigslist.org/00O0O_4efNgjjYJe...</td>\n",
       "      <td>2014 Chevrolet Cruze 2LT Auto - $6,999  Year: ...</td>\n",
       "      <td>oh</td>\n",
       "      <td>41.3900</td>\n",
       "      <td>-83.6511</td>\n",
       "      <td>2020-11-27T13:22:06-0500</td>\n",
       "    </tr>\n",
       "    <tr>\n",
       "      <th>7</th>\n",
       "      <td>336045</td>\n",
       "      <td>https://lancaster.craigslist.org/ctd/d/south-a...</td>\n",
       "      <td>lancaster</td>\n",
       "      <td>https://lancaster.craigslist.org</td>\n",
       "      <td>34990</td>\n",
       "      <td>2,011.0000</td>\n",
       "      <td>NaN</td>\n",
       "      <td>International 4300</td>\n",
       "      <td>good</td>\n",
       "      <td>6 cylinders</td>\n",
       "      <td>...</td>\n",
       "      <td>rwd</td>\n",
       "      <td>full-size</td>\n",
       "      <td>truck</td>\n",
       "      <td>yellow</td>\n",
       "      <td>https://images.craigslist.org/00V0V_bYpb4Cx3wD...</td>\n",
       "      <td>2011 International 4300 CREW CAB, 11' 7\" STAKE...</td>\n",
       "      <td>pa</td>\n",
       "      <td>40.4688</td>\n",
       "      <td>-74.2817</td>\n",
       "      <td>2020-11-11T02:53:10-0500</td>\n",
       "    </tr>\n",
       "    <tr>\n",
       "      <th>8</th>\n",
       "      <td>280296</td>\n",
       "      <td>https://newyork.craigslist.org/brk/cto/d/brook...</td>\n",
       "      <td>new york city</td>\n",
       "      <td>https://newyork.craigslist.org</td>\n",
       "      <td>8975</td>\n",
       "      <td>2,012.0000</td>\n",
       "      <td>kia</td>\n",
       "      <td>sorento</td>\n",
       "      <td>like new</td>\n",
       "      <td>6 cylinders</td>\n",
       "      <td>...</td>\n",
       "      <td>fwd</td>\n",
       "      <td>full-size</td>\n",
       "      <td>offroad</td>\n",
       "      <td>green</td>\n",
       "      <td>https://images.craigslist.org/00L0L_eUhLpzM6OM...</td>\n",
       "      <td>2012 KIA SORENTO  NICE LOOKING  ONLY 36K MILES...</td>\n",
       "      <td>ny</td>\n",
       "      <td>40.5829</td>\n",
       "      <td>-73.9679</td>\n",
       "      <td>2020-12-01T17:22:42-0500</td>\n",
       "    </tr>\n",
       "    <tr>\n",
       "      <th>9</th>\n",
       "      <td>347282</td>\n",
       "      <td>https://providence.craigslist.org/cto/d/barrin...</td>\n",
       "      <td>rhode island</td>\n",
       "      <td>https://providence.craigslist.org</td>\n",
       "      <td>4000</td>\n",
       "      <td>2,008.0000</td>\n",
       "      <td>mazda</td>\n",
       "      <td>6</td>\n",
       "      <td>good</td>\n",
       "      <td>4 cylinders</td>\n",
       "      <td>...</td>\n",
       "      <td>fwd</td>\n",
       "      <td>full-size</td>\n",
       "      <td>sedan</td>\n",
       "      <td>grey</td>\n",
       "      <td>https://images.craigslist.org/01515_g5N8kjDaTP...</td>\n",
       "      <td>2008 mazda6 for sale, have upgraded to a new M...</td>\n",
       "      <td>ri</td>\n",
       "      <td>41.7262</td>\n",
       "      <td>-71.3347</td>\n",
       "      <td>2020-11-21T12:51:01-0500</td>\n",
       "    </tr>\n",
       "  </tbody>\n",
       "</table>\n",
       "<p>10 rows × 25 columns</p>\n",
       "</div>"
      ],
      "text/latex": [
       "{\\centering\n",
       "\\begin{tabular}{lrlllrrlllllrllllllllllrrl}\n",
       "\\toprule\n",
       "{} &  Unnamed: 0 &                                                url &                 region &                         region\\_url &  price &                 year & manufacturer &                   model &  condition &    cylinders &    fuel &             odometer & title\\_status & transmission &                VIN & drive &       size &     type & paint\\_color &                                          image\\_url &                                        description & state &                  lat &                 long &              posting\\_date \\\\\n",
       "\\midrule\n",
       "0 &      154496 &  https://desmoines.craigslist.org/ctd/d/des-moi... &             des moines &   https://desmoines.craigslist.org &   8995 &           2,011.0000 &          ram &                  dakota &  excellent &  6 cylinders &     gas &         155,815.0000 &        clean &    automatic &  1D7RW3BK6BS687472 &   4wd &        NaN &    truck &         NaN &  https://images.craigslist.org/00t0t\\_cojzh6OLdk... &                                                NaN &    ia &              41.6002 &             -93.5701 &  2020-11-18T11:04:29-0600 \\\\\n",
       "1 &      340882 &  https://pittsburgh.craigslist.org/cto/d/greens... &             pittsburgh &  https://pittsburgh.craigslist.org &   4500 &           1,954.0000 &    chevrolet &                     210 &       fair &  6 cylinders &     gas &          72,953.0000 &        clean &    automatic &                NaN &   rwd &  full-size &    coupe &       green &  https://images.craigslist.org/00101\\_7LqQvihSgb... &  1954 Chevy 210 two door sedan. The car is all ... &    pa &              40.3074 &             -79.5424 &  2020-11-30T10:21:12-0500 \\\\\n",
       "2 &       57036 &  https://slo.craigslist.org/ctd/d/san-luis-obis... &        san luis obispo &         https://slo.craigslist.org &  16495 &           2,013.0000 &       toyota &      tacoma regular cab &  excellent &  4 cylinders &     gas &                  NaN &        clean &    automatic &                NaN &   rwd &    compact &    truck &       white &  https://images.craigslist.org/00E0E\\_3doy3u82Gh... &  2013 TOYOTA TACOMA REGULAR CAB 2.7L 4 CYLINDER... &    ca &              35.2468 &            -120.6676 &  2020-11-13T21:09:40-0800 \\\\\n",
       "3 &      244897 &  https://raleigh.craigslist.org/ctd/d/raleigh-2... &  raleigh / durham / CH &     https://raleigh.craigslist.org &  14900 &           2,014.0000 &        honda &            accord coupe &   like new &  6 cylinders &     gas &          64,855.0000 &        clean &    automatic &  1HGCT2B80EA004376 &   fwd &    compact &    coupe &      silver &  https://images.craigslist.org/00Z0Z\\_1IqAlFGmg6... &  We are selling a 2014 Honda Accord EX-L Coupe ... &    nc &              35.7489 &             -78.6434 &  2020-11-25T17:02:03-0500 \\\\\n",
       "4 &      206753 &  https://porthuron.craigslist.org/ctd/d/point-e... &             port huron &   https://porthuron.craigslist.org &  35990 &           2,019.0000 &         ford &  f150 supercrew cab xlt &       good &  6 cylinders &     gas &          10,873.0000 &        clean &        other &  1FTEW1CP3KFA54055 &   NaN &        NaN &   pickup &       black &  https://images.craigslist.org/00T0T\\_cLmS54epjE... &  Carvana is the safer way to buy a car During t... &    mi &              43.0172 &             -82.4510 &  2020-11-22T11:09:41-0500 \\\\\n",
       "5 &      346078 &  https://york.craigslist.org/ctd/d/hanover-2012... &                   york &        https://york.craigslist.org &  12900 &           2,012.0000 &       toyota &            rav4 limited &        NaN &  4 cylinders &     gas &          97,465.0000 &        clean &    automatic &  2T3DF4DV7CW266421 &   4wd &        NaN &      SUV &       black &  https://images.craigslist.org/00r0r\\_jGSql9WYuT... &  2012 Toyota RAV4 Limited STOCK \\#: S01382   Bad... &    pa &              39.8264 &             -76.9991 &  2020-11-10T17:10:42-0500 \\\\\n",
       "6 &      306950 &  https://toledo.craigslist.org/ctd/d/bowling-gr... &                 toledo &      https://toledo.craigslist.org &   6999 &           2,014.0000 &    chevrolet &                   cruze &       good &  4 cylinders &     gas &          90,360.0000 &        clean &    automatic &  1G1PE5SB6E7185013 &   fwd &        NaN &    sedan &         red &  https://images.craigslist.org/00O0O\\_4efNgjjYJe... &  2014 Chevrolet Cruze 2LT Auto - \\$6,999  Year: ... &    oh &              41.3900 &             -83.6511 &  2020-11-27T13:22:06-0500 \\\\\n",
       "7 &      336045 &  https://lancaster.craigslist.org/ctd/d/south-a... &              lancaster &   https://lancaster.craigslist.org &  34990 &           2,011.0000 &          NaN &      International 4300 &       good &  6 cylinders &  diesel &          84,317.0000 &        clean &    automatic &  1HTMNAAL5BJ385718 &   rwd &  full-size &    truck &      yellow &  https://images.craigslist.org/00V0V\\_bYpb4Cx3wD... &  2011 International 4300 CREW CAB, 11' 7\" STAKE... &    pa &              40.4688 &             -74.2817 &  2020-11-11T02:53:10-0500 \\\\\n",
       "8 &      280296 &  https://newyork.craigslist.org/brk/cto/d/brook... &          new york city &     https://newyork.craigslist.org &   8975 &           2,012.0000 &          kia &                 sorento &   like new &  6 cylinders &     gas &          36,400.0000 &        clean &        other &  5XYKT3A14CG202766 &   fwd &  full-size &  offroad &       green &  https://images.craigslist.org/00L0L\\_eUhLpzM6OM... &  2012 KIA SORENTO  NICE LOOKING  ONLY 36K MILES... &    ny &              40.5829 &             -73.9679 &  2020-12-01T17:22:42-0500 \\\\\n",
       "9 &      347282 &  https://providence.craigslist.org/cto/d/barrin... &           rhode island &  https://providence.craigslist.org &   4000 &           2,008.0000 &        mazda &                       6 &       good &  4 cylinders &     gas &         117,142.0000 &        clean &    automatic &                NaN &   fwd &  full-size &    sedan &        grey &  https://images.craigslist.org/01515\\_g5N8kjDaTP... &  2008 mazda6 for sale, have upgraded to a new M... &    ri &              41.7262 &             -71.3347 &  2020-11-21T12:51:01-0500 \\\\\n",
       "\\bottomrule\n",
       "\\end{tabular}\n",
       "\n",
       "\\medskip}"
      ],
      "text/plain": [
       "   Unnamed: 0                                                url  \\\n",
       "0      154496  https://desmoines.craigslist.org/ctd/d/des-moi...   \n",
       "1      340882  https://pittsburgh.craigslist.org/cto/d/greens...   \n",
       "2       57036  https://slo.craigslist.org/ctd/d/san-luis-obis...   \n",
       "3      244897  https://raleigh.craigslist.org/ctd/d/raleigh-2...   \n",
       "4      206753  https://porthuron.craigslist.org/ctd/d/point-e...   \n",
       "5      346078  https://york.craigslist.org/ctd/d/hanover-2012...   \n",
       "6      306950  https://toledo.craigslist.org/ctd/d/bowling-gr...   \n",
       "7      336045  https://lancaster.craigslist.org/ctd/d/south-a...   \n",
       "8      280296  https://newyork.craigslist.org/brk/cto/d/brook...   \n",
       "9      347282  https://providence.craigslist.org/cto/d/barrin...   \n",
       "\n",
       "                  region                         region_url  price  \\\n",
       "0             des moines   https://desmoines.craigslist.org   8995   \n",
       "1             pittsburgh  https://pittsburgh.craigslist.org   4500   \n",
       "2        san luis obispo         https://slo.craigslist.org  16495   \n",
       "3  raleigh / durham / CH     https://raleigh.craigslist.org  14900   \n",
       "4             port huron   https://porthuron.craigslist.org  35990   \n",
       "5                   york        https://york.craigslist.org  12900   \n",
       "6                 toledo      https://toledo.craigslist.org   6999   \n",
       "7              lancaster   https://lancaster.craigslist.org  34990   \n",
       "8          new york city     https://newyork.craigslist.org   8975   \n",
       "9           rhode island  https://providence.craigslist.org   4000   \n",
       "\n",
       "                  year manufacturer                   model  condition  \\\n",
       "0           2,011.0000          ram                  dakota  excellent   \n",
       "1           1,954.0000    chevrolet                     210       fair   \n",
       "2           2,013.0000       toyota      tacoma regular cab  excellent   \n",
       "3           2,014.0000        honda            accord coupe   like new   \n",
       "4           2,019.0000         ford  f150 supercrew cab xlt       good   \n",
       "5           2,012.0000       toyota            rav4 limited        NaN   \n",
       "6           2,014.0000    chevrolet                   cruze       good   \n",
       "7           2,011.0000          NaN      International 4300       good   \n",
       "8           2,012.0000          kia                 sorento   like new   \n",
       "9           2,008.0000        mazda                       6       good   \n",
       "\n",
       "     cylinders  ... drive       size     type paint_color  \\\n",
       "0  6 cylinders  ...   4wd        NaN    truck         NaN   \n",
       "1  6 cylinders  ...   rwd  full-size    coupe       green   \n",
       "2  4 cylinders  ...   rwd    compact    truck       white   \n",
       "3  6 cylinders  ...   fwd    compact    coupe      silver   \n",
       "4  6 cylinders  ...   NaN        NaN   pickup       black   \n",
       "5  4 cylinders  ...   4wd        NaN      SUV       black   \n",
       "6  4 cylinders  ...   fwd        NaN    sedan         red   \n",
       "7  6 cylinders  ...   rwd  full-size    truck      yellow   \n",
       "8  6 cylinders  ...   fwd  full-size  offroad       green   \n",
       "9  4 cylinders  ...   fwd  full-size    sedan        grey   \n",
       "\n",
       "                                           image_url  \\\n",
       "0  https://images.craigslist.org/00t0t_cojzh6OLdk...   \n",
       "1  https://images.craigslist.org/00101_7LqQvihSgb...   \n",
       "2  https://images.craigslist.org/00E0E_3doy3u82Gh...   \n",
       "3  https://images.craigslist.org/00Z0Z_1IqAlFGmg6...   \n",
       "4  https://images.craigslist.org/00T0T_cLmS54epjE...   \n",
       "5  https://images.craigslist.org/00r0r_jGSql9WYuT...   \n",
       "6  https://images.craigslist.org/00O0O_4efNgjjYJe...   \n",
       "7  https://images.craigslist.org/00V0V_bYpb4Cx3wD...   \n",
       "8  https://images.craigslist.org/00L0L_eUhLpzM6OM...   \n",
       "9  https://images.craigslist.org/01515_g5N8kjDaTP...   \n",
       "\n",
       "                                         description state  \\\n",
       "0                                                NaN    ia   \n",
       "1  1954 Chevy 210 two door sedan. The car is all ...    pa   \n",
       "2  2013 TOYOTA TACOMA REGULAR CAB 2.7L 4 CYLINDER...    ca   \n",
       "3  We are selling a 2014 Honda Accord EX-L Coupe ...    nc   \n",
       "4  Carvana is the safer way to buy a car During t...    mi   \n",
       "5  2012 Toyota RAV4 Limited STOCK #: S01382   Bad...    pa   \n",
       "6  2014 Chevrolet Cruze 2LT Auto - $6,999  Year: ...    oh   \n",
       "7  2011 International 4300 CREW CAB, 11' 7\" STAKE...    pa   \n",
       "8  2012 KIA SORENTO  NICE LOOKING  ONLY 36K MILES...    ny   \n",
       "9  2008 mazda6 for sale, have upgraded to a new M...    ri   \n",
       "\n",
       "                   lat                 long              posting_date  \n",
       "0              41.6002             -93.5701  2020-11-18T11:04:29-0600  \n",
       "1              40.3074             -79.5424  2020-11-30T10:21:12-0500  \n",
       "2              35.2468            -120.6676  2020-11-13T21:09:40-0800  \n",
       "3              35.7489             -78.6434  2020-11-25T17:02:03-0500  \n",
       "4              43.0172             -82.4510  2020-11-22T11:09:41-0500  \n",
       "5              39.8264             -76.9991  2020-11-10T17:10:42-0500  \n",
       "6              41.3900             -83.6511  2020-11-27T13:22:06-0500  \n",
       "7              40.4688             -74.2817  2020-11-11T02:53:10-0500  \n",
       "8              40.5829             -73.9679  2020-12-01T17:22:42-0500  \n",
       "9              41.7262             -71.3347  2020-11-21T12:51:01-0500  \n",
       "\n",
       "[10 rows x 25 columns]"
      ]
     },
     "metadata": {},
     "output_type": "display_data"
    },
    {
     "name": "stdout",
     "output_type": "stream",
     "text": [
      "data_train_df.info():\n",
      "<class 'pandas.core.frame.DataFrame'>\n",
      "RangeIndex: 10000 entries, 0 to 9999\n",
      "Data columns (total 25 columns):\n",
      " #   Column        Non-Null Count  Dtype  \n",
      "---  ------        --------------  -----  \n",
      " 0   Unnamed: 0    10000 non-null  int64  \n",
      " 1   url           10000 non-null  object \n",
      " 2   region        10000 non-null  object \n",
      " 3   region_url    10000 non-null  object \n",
      " 4   price         10000 non-null  int64  \n",
      " 5   year          9967 non-null   float64\n",
      " 6   manufacturer  9702 non-null   object \n",
      " 7   model         9938 non-null   object \n",
      " 8   condition     6780 non-null   object \n",
      " 9   cylinders     7402 non-null   object \n",
      " 10  fuel          9931 non-null   object \n",
      " 11  odometer      9500 non-null   float64\n",
      " 12  title_status  9954 non-null   object \n",
      " 13  transmission  9953 non-null   object \n",
      " 14  VIN           6765 non-null   object \n",
      " 15  drive         8287 non-null   object \n",
      " 16  size          3783 non-null   object \n",
      " 17  type          10000 non-null  object \n",
      " 18  paint_color   8395 non-null   object \n",
      " 19  image_url     10000 non-null  object \n",
      " 20  description   9999 non-null   object \n",
      " 21  state         10000 non-null  object \n",
      " 22  lat           9918 non-null   float64\n",
      " 23  long          9918 non-null   float64\n",
      " 24  posting_date  10000 non-null  object \n",
      "dtypes: float64(4), int64(2), object(19)\n",
      "memory usage: 1.9+ MB\n"
     ]
    },
    {
     "data": {
      "text/plain": [
       "None"
      ]
     },
     "metadata": {},
     "output_type": "display_data"
    }
   ],
   "source": [
    "print(\"data_train_df:\")\n",
    "display(data_train_df.head(10))\n",
    "print(\"data_train_df.info():\")\n",
    "display(data_train_df.info())\n",
    "\n",
    "# Analysis of the features looks like Education level, Credit Limit, and Income Level may be useful. \n",
    "# Features will need to be transformed to convert all into numbers to be analyzed."
   ]
  },
  {
   "cell_type": "markdown",
   "metadata": {},
   "source": [
    "### Step 5\n",
    "Convert all feature values to floating-point numbers for better accuracy when performing tests later."
   ]
  },
  {
   "cell_type": "code",
   "execution_count": 198,
   "metadata": {},
   "outputs": [
    {
     "name": "stdout",
     "output_type": "stream",
     "text": [
      "<class 'pandas.core.frame.DataFrame'>\n",
      "RangeIndex: 10000 entries, 0 to 9999\n",
      "Data columns (total 10 columns):\n",
      " #   Column        Non-Null Count  Dtype  \n",
      "---  ------        --------------  -----  \n",
      " 0   year          10000 non-null  float64\n",
      " 1   odometer      10000 non-null  float64\n",
      " 2   drive         10000 non-null  float64\n",
      " 3   size          10000 non-null  float64\n",
      " 4   type          10000 non-null  float64\n",
      " 5   fuel          10000 non-null  float64\n",
      " 6   condition     10000 non-null  float64\n",
      " 7   paint_color   10000 non-null  float64\n",
      " 8   cylinders     10000 non-null  float64\n",
      " 9   manufacturer  10000 non-null  float64\n",
      "dtypes: float64(10)\n",
      "memory usage: 781.4 KB\n",
      "None\n"
     ]
    }
   ],
   "source": [
    "data_train_ft = data_train_ft.astype(float) \n",
    "#data_test_df = data_test_df[features].astype(float) \n",
    "data_train_tgt = data_train_tgt.astype(float)\n",
    "print(data_train_ft.info())\n",
    "\n",
    "# makes sure all data is uniform in the floating data type"
   ]
  },
  {
   "cell_type": "markdown",
   "metadata": {},
   "source": [
    "### Step 6\n",
    "Create a library of different models to train and track the accuracy of later. Like the feature selection, having a wide variety of models to test out helps us ensure that our predictions are as accurate as possible."
   ]
  },
  {
   "cell_type": "code",
   "execution_count": 199,
   "metadata": {},
   "outputs": [],
   "source": [
    "models_to_try = {'nb': naive_bayes.GaussianNB()}\n",
    "\n",
    "# add k-NN models with various values of k to models_to_try\n",
    "for k in range(1,15,3):\n",
    "    models_to_try[f'{k}-NN'] = neighbors.KNeighborsClassifier(n_neighbors=k)"
   ]
  },
  {
   "cell_type": "code",
   "execution_count": 200,
   "metadata": {},
   "outputs": [],
   "source": [
    "scaler = skpre.StandardScaler()\n",
    "pipelines_to_try = \\\n",
    "    {'GNB0' : naive_bayes.GaussianNB(),\n",
    "   # 'RandomForestClassifier' : RandomForestClassifier()\n",
    "    }\n",
    "for k in range(1,15,2):\n",
    "    models_to_try[f'DTC-{k}'] =  tree.DecisionTreeClassifier(max_depth=k)\n",
    "\n",
    "baseline = dummy.DummyClassifier(strategy=\"uniform\")\n",
    "\n",
    "# scale the data\n",
    "for model_name in models_to_try:\n",
    "    pipelines_to_try[f'std_{model_name}_pipe'] = pipeline.make_pipeline(scaler, \n",
    "                                                      models_to_try[model_name])\n",
    "\n",
    "\n",
    "sv_classifiers = {\"SVC(Linear)\"   : svm.SVC(kernel='linear'),\n",
    "                  \"NuSVC(Linear)\" : svm.NuSVC(kernel='linear', nu=.9)} "
   ]
  },
  {
   "cell_type": "markdown",
   "metadata": {},
   "source": [
    "### Step 8\n",
    "Use cross-validation to test the accuracy of the models."
   ]
  },
  {
   "cell_type": "code",
   "execution_count": 201,
   "metadata": {},
   "outputs": [
    {
     "name": "stderr",
     "output_type": "stream",
     "text": [
      "/Users/bendesollar/opt/anaconda3/lib/python3.9/site-packages/sklearn/model_selection/_split.py:666: UserWarning: The least populated class in y has only 1 members, which is less than n_splits=10.\n",
      "  warnings.warn((\"The least populated class in y has only %d\"\n"
     ]
    },
    {
     "name": "stdout",
     "output_type": "stream",
     "text": [
      "GNB0: 0.023\n"
     ]
    },
    {
     "name": "stderr",
     "output_type": "stream",
     "text": [
      "/Users/bendesollar/opt/anaconda3/lib/python3.9/site-packages/sklearn/model_selection/_split.py:666: UserWarning: The least populated class in y has only 1 members, which is less than n_splits=10.\n",
      "  warnings.warn((\"The least populated class in y has only %d\"\n"
     ]
    },
    {
     "name": "stdout",
     "output_type": "stream",
     "text": [
      "std_nb_pipe: 0.014\n"
     ]
    },
    {
     "name": "stderr",
     "output_type": "stream",
     "text": [
      "/Users/bendesollar/opt/anaconda3/lib/python3.9/site-packages/sklearn/model_selection/_split.py:666: UserWarning: The least populated class in y has only 1 members, which is less than n_splits=10.\n",
      "  warnings.warn((\"The least populated class in y has only %d\"\n"
     ]
    },
    {
     "name": "stdout",
     "output_type": "stream",
     "text": [
      "std_1-NN_pipe: 0.115\n"
     ]
    },
    {
     "name": "stderr",
     "output_type": "stream",
     "text": [
      "/Users/bendesollar/opt/anaconda3/lib/python3.9/site-packages/sklearn/model_selection/_split.py:666: UserWarning: The least populated class in y has only 1 members, which is less than n_splits=10.\n",
      "  warnings.warn((\"The least populated class in y has only %d\"\n"
     ]
    },
    {
     "name": "stdout",
     "output_type": "stream",
     "text": [
      "std_4-NN_pipe: 0.061\n"
     ]
    },
    {
     "name": "stderr",
     "output_type": "stream",
     "text": [
      "/Users/bendesollar/opt/anaconda3/lib/python3.9/site-packages/sklearn/model_selection/_split.py:666: UserWarning: The least populated class in y has only 1 members, which is less than n_splits=10.\n",
      "  warnings.warn((\"The least populated class in y has only %d\"\n"
     ]
    },
    {
     "name": "stdout",
     "output_type": "stream",
     "text": [
      "std_7-NN_pipe: 0.049\n"
     ]
    },
    {
     "name": "stderr",
     "output_type": "stream",
     "text": [
      "/Users/bendesollar/opt/anaconda3/lib/python3.9/site-packages/sklearn/model_selection/_split.py:666: UserWarning: The least populated class in y has only 1 members, which is less than n_splits=10.\n",
      "  warnings.warn((\"The least populated class in y has only %d\"\n"
     ]
    },
    {
     "name": "stdout",
     "output_type": "stream",
     "text": [
      "std_10-NN_pipe: 0.044\n"
     ]
    },
    {
     "name": "stderr",
     "output_type": "stream",
     "text": [
      "/Users/bendesollar/opt/anaconda3/lib/python3.9/site-packages/sklearn/model_selection/_split.py:666: UserWarning: The least populated class in y has only 1 members, which is less than n_splits=10.\n",
      "  warnings.warn((\"The least populated class in y has only %d\"\n"
     ]
    },
    {
     "name": "stdout",
     "output_type": "stream",
     "text": [
      "std_13-NN_pipe: 0.039\n"
     ]
    },
    {
     "name": "stderr",
     "output_type": "stream",
     "text": [
      "/Users/bendesollar/opt/anaconda3/lib/python3.9/site-packages/sklearn/model_selection/_split.py:666: UserWarning: The least populated class in y has only 1 members, which is less than n_splits=10.\n",
      "  warnings.warn((\"The least populated class in y has only %d\"\n"
     ]
    },
    {
     "name": "stdout",
     "output_type": "stream",
     "text": [
      "std_DTC-1_pipe: 0.014\n"
     ]
    },
    {
     "name": "stderr",
     "output_type": "stream",
     "text": [
      "/Users/bendesollar/opt/anaconda3/lib/python3.9/site-packages/sklearn/model_selection/_split.py:666: UserWarning: The least populated class in y has only 1 members, which is less than n_splits=10.\n",
      "  warnings.warn((\"The least populated class in y has only %d\"\n"
     ]
    },
    {
     "name": "stdout",
     "output_type": "stream",
     "text": [
      "std_DTC-3_pipe: 0.020\n"
     ]
    },
    {
     "name": "stderr",
     "output_type": "stream",
     "text": [
      "/Users/bendesollar/opt/anaconda3/lib/python3.9/site-packages/sklearn/model_selection/_split.py:666: UserWarning: The least populated class in y has only 1 members, which is less than n_splits=10.\n",
      "  warnings.warn((\"The least populated class in y has only %d\"\n"
     ]
    },
    {
     "name": "stdout",
     "output_type": "stream",
     "text": [
      "std_DTC-5_pipe: 0.022\n"
     ]
    },
    {
     "name": "stderr",
     "output_type": "stream",
     "text": [
      "/Users/bendesollar/opt/anaconda3/lib/python3.9/site-packages/sklearn/model_selection/_split.py:666: UserWarning: The least populated class in y has only 1 members, which is less than n_splits=10.\n",
      "  warnings.warn((\"The least populated class in y has only %d\"\n"
     ]
    },
    {
     "name": "stdout",
     "output_type": "stream",
     "text": [
      "std_DTC-7_pipe: 0.030\n"
     ]
    },
    {
     "name": "stderr",
     "output_type": "stream",
     "text": [
      "/Users/bendesollar/opt/anaconda3/lib/python3.9/site-packages/sklearn/model_selection/_split.py:666: UserWarning: The least populated class in y has only 1 members, which is less than n_splits=10.\n",
      "  warnings.warn((\"The least populated class in y has only %d\"\n"
     ]
    },
    {
     "name": "stdout",
     "output_type": "stream",
     "text": [
      "std_DTC-9_pipe: 0.035\n"
     ]
    },
    {
     "name": "stderr",
     "output_type": "stream",
     "text": [
      "/Users/bendesollar/opt/anaconda3/lib/python3.9/site-packages/sklearn/model_selection/_split.py:666: UserWarning: The least populated class in y has only 1 members, which is less than n_splits=10.\n",
      "  warnings.warn((\"The least populated class in y has only %d\"\n"
     ]
    },
    {
     "name": "stdout",
     "output_type": "stream",
     "text": [
      "std_DTC-11_pipe: 0.044\n"
     ]
    },
    {
     "name": "stderr",
     "output_type": "stream",
     "text": [
      "/Users/bendesollar/opt/anaconda3/lib/python3.9/site-packages/sklearn/model_selection/_split.py:666: UserWarning: The least populated class in y has only 1 members, which is less than n_splits=10.\n",
      "  warnings.warn((\"The least populated class in y has only %d\"\n"
     ]
    },
    {
     "name": "stdout",
     "output_type": "stream",
     "text": [
      "std_DTC-13_pipe: 0.057\n"
     ]
    }
   ],
   "source": [
    "accuracy_scores = {}\n",
    "\n",
    "for name, model in pipelines_to_try.items():\n",
    "    #loo = skms.LeaveOneOut()\n",
    "    scores = skms.cross_val_score(model,\n",
    "                                  data_train_ft,\n",
    "                                  data_train_tgt,\n",
    "                                  #cv=loo,\n",
    "                                  cv=10,\n",
    "                                  scoring='accuracy')\n",
    "    mean_accuracy = scores.mean()\n",
    "    accuracy_scores[name] = mean_accuracy\n",
    "    print(f'{name}: {mean_accuracy:.3f}')\n",
    "\n"
   ]
  },
  {
   "cell_type": "markdown",
   "metadata": {},
   "source": [
    "### Step 9\n",
    "Find the pipeline with the highest accuracy and save it for testing."
   ]
  },
  {
   "cell_type": "code",
   "execution_count": 202,
   "metadata": {},
   "outputs": [
    {
     "name": "stdout",
     "output_type": "stream",
     "text": [
      "\n",
      "Best pipeline: std_1-NN_pipe (accuracy = 0.115)\n"
     ]
    }
   ],
   "source": [
    "best_pipeline_name = max(accuracy_scores,key=accuracy_scores.get)\n",
    "print(f'\\nBest pipeline: {best_pipeline_name} (accuracy = {accuracy_scores[best_pipeline_name]:.3f})')\n",
    "final_pipeline = pipelines_to_try[best_pipeline_name]\n",
    "\n",
    "# Best model seems to be RandomForestClassifier (accuracy = 0.954)"
   ]
  },
  {
   "cell_type": "markdown",
   "metadata": {},
   "source": [
    "### Step 10\n",
    "Fit and test the highest-scoring model against the testing data. Save the results in submission.csv for uploading to Kaggle."
   ]
  },
  {
   "cell_type": "code",
   "execution_count": 203,
   "metadata": {},
   "outputs": [
    {
     "ename": "KeyError",
     "evalue": "\"['type'] not in index\"",
     "output_type": "error",
     "traceback": [
      "\u001b[0;31m---------------------------------------------------------------------------\u001b[0m",
      "\u001b[0;31mKeyError\u001b[0m                                  Traceback (most recent call last)",
      "\u001b[0;32m/var/folders/8k/l65lktds3250dyd3jzxfvjw80000gn/T/ipykernel_13062/3834966074.py\u001b[0m in \u001b[0;36m<module>\u001b[0;34m\u001b[0m\n\u001b[1;32m      4\u001b[0m \u001b[0;34m\u001b[0m\u001b[0m\n\u001b[1;32m      5\u001b[0m \u001b[0;31m# transform validation features\u001b[0m\u001b[0;34m\u001b[0m\u001b[0;34m\u001b[0m\u001b[0m\n\u001b[0;32m----> 6\u001b[0;31m \u001b[0mtest_scaled_ftrs\u001b[0m \u001b[0;34m=\u001b[0m \u001b[0mscaler\u001b[0m\u001b[0;34m.\u001b[0m\u001b[0mtransform\u001b[0m\u001b[0;34m(\u001b[0m\u001b[0mdata_test_df\u001b[0m\u001b[0;34m[\u001b[0m\u001b[0mfeatures\u001b[0m\u001b[0;34m]\u001b[0m\u001b[0;34m)\u001b[0m\u001b[0;34m\u001b[0m\u001b[0;34m\u001b[0m\u001b[0m\n\u001b[0m\u001b[1;32m      7\u001b[0m \u001b[0;34m\u001b[0m\u001b[0m\n\u001b[1;32m      8\u001b[0m \u001b[0mfit\u001b[0m \u001b[0;34m=\u001b[0m \u001b[0mfinal_pipeline\u001b[0m\u001b[0;34m.\u001b[0m\u001b[0mfit\u001b[0m\u001b[0;34m(\u001b[0m\u001b[0mtrain_scaled_ftrs\u001b[0m\u001b[0;34m,\u001b[0m \u001b[0mdata_train_tgt\u001b[0m\u001b[0;34m)\u001b[0m\u001b[0;34m\u001b[0m\u001b[0;34m\u001b[0m\u001b[0m\n",
      "\u001b[0;32m~/opt/anaconda3/lib/python3.9/site-packages/pandas/core/frame.py\u001b[0m in \u001b[0;36m__getitem__\u001b[0;34m(self, key)\u001b[0m\n\u001b[1;32m   3462\u001b[0m             \u001b[0;32mif\u001b[0m \u001b[0mis_iterator\u001b[0m\u001b[0;34m(\u001b[0m\u001b[0mkey\u001b[0m\u001b[0;34m)\u001b[0m\u001b[0;34m:\u001b[0m\u001b[0;34m\u001b[0m\u001b[0;34m\u001b[0m\u001b[0m\n\u001b[1;32m   3463\u001b[0m                 \u001b[0mkey\u001b[0m \u001b[0;34m=\u001b[0m \u001b[0mlist\u001b[0m\u001b[0;34m(\u001b[0m\u001b[0mkey\u001b[0m\u001b[0;34m)\u001b[0m\u001b[0;34m\u001b[0m\u001b[0;34m\u001b[0m\u001b[0m\n\u001b[0;32m-> 3464\u001b[0;31m             \u001b[0mindexer\u001b[0m \u001b[0;34m=\u001b[0m \u001b[0mself\u001b[0m\u001b[0;34m.\u001b[0m\u001b[0mloc\u001b[0m\u001b[0;34m.\u001b[0m\u001b[0m_get_listlike_indexer\u001b[0m\u001b[0;34m(\u001b[0m\u001b[0mkey\u001b[0m\u001b[0;34m,\u001b[0m \u001b[0maxis\u001b[0m\u001b[0;34m=\u001b[0m\u001b[0;36m1\u001b[0m\u001b[0;34m)\u001b[0m\u001b[0;34m[\u001b[0m\u001b[0;36m1\u001b[0m\u001b[0;34m]\u001b[0m\u001b[0;34m\u001b[0m\u001b[0;34m\u001b[0m\u001b[0m\n\u001b[0m\u001b[1;32m   3465\u001b[0m \u001b[0;34m\u001b[0m\u001b[0m\n\u001b[1;32m   3466\u001b[0m         \u001b[0;31m# take() does not accept boolean indexers\u001b[0m\u001b[0;34m\u001b[0m\u001b[0;34m\u001b[0m\u001b[0m\n",
      "\u001b[0;32m~/opt/anaconda3/lib/python3.9/site-packages/pandas/core/indexing.py\u001b[0m in \u001b[0;36m_get_listlike_indexer\u001b[0;34m(self, key, axis)\u001b[0m\n\u001b[1;32m   1312\u001b[0m             \u001b[0mkeyarr\u001b[0m\u001b[0;34m,\u001b[0m \u001b[0mindexer\u001b[0m\u001b[0;34m,\u001b[0m \u001b[0mnew_indexer\u001b[0m \u001b[0;34m=\u001b[0m \u001b[0max\u001b[0m\u001b[0;34m.\u001b[0m\u001b[0m_reindex_non_unique\u001b[0m\u001b[0;34m(\u001b[0m\u001b[0mkeyarr\u001b[0m\u001b[0;34m)\u001b[0m\u001b[0;34m\u001b[0m\u001b[0;34m\u001b[0m\u001b[0m\n\u001b[1;32m   1313\u001b[0m \u001b[0;34m\u001b[0m\u001b[0m\n\u001b[0;32m-> 1314\u001b[0;31m         \u001b[0mself\u001b[0m\u001b[0;34m.\u001b[0m\u001b[0m_validate_read_indexer\u001b[0m\u001b[0;34m(\u001b[0m\u001b[0mkeyarr\u001b[0m\u001b[0;34m,\u001b[0m \u001b[0mindexer\u001b[0m\u001b[0;34m,\u001b[0m \u001b[0maxis\u001b[0m\u001b[0;34m)\u001b[0m\u001b[0;34m\u001b[0m\u001b[0;34m\u001b[0m\u001b[0m\n\u001b[0m\u001b[1;32m   1315\u001b[0m \u001b[0;34m\u001b[0m\u001b[0m\n\u001b[1;32m   1316\u001b[0m         if needs_i8_conversion(ax.dtype) or isinstance(\n",
      "\u001b[0;32m~/opt/anaconda3/lib/python3.9/site-packages/pandas/core/indexing.py\u001b[0m in \u001b[0;36m_validate_read_indexer\u001b[0;34m(self, key, indexer, axis)\u001b[0m\n\u001b[1;32m   1375\u001b[0m \u001b[0;34m\u001b[0m\u001b[0m\n\u001b[1;32m   1376\u001b[0m             \u001b[0mnot_found\u001b[0m \u001b[0;34m=\u001b[0m \u001b[0mlist\u001b[0m\u001b[0;34m(\u001b[0m\u001b[0mensure_index\u001b[0m\u001b[0;34m(\u001b[0m\u001b[0mkey\u001b[0m\u001b[0;34m)\u001b[0m\u001b[0;34m[\u001b[0m\u001b[0mmissing_mask\u001b[0m\u001b[0;34m.\u001b[0m\u001b[0mnonzero\u001b[0m\u001b[0;34m(\u001b[0m\u001b[0;34m)\u001b[0m\u001b[0;34m[\u001b[0m\u001b[0;36m0\u001b[0m\u001b[0;34m]\u001b[0m\u001b[0;34m]\u001b[0m\u001b[0;34m.\u001b[0m\u001b[0munique\u001b[0m\u001b[0;34m(\u001b[0m\u001b[0;34m)\u001b[0m\u001b[0;34m)\u001b[0m\u001b[0;34m\u001b[0m\u001b[0;34m\u001b[0m\u001b[0m\n\u001b[0;32m-> 1377\u001b[0;31m             \u001b[0;32mraise\u001b[0m \u001b[0mKeyError\u001b[0m\u001b[0;34m(\u001b[0m\u001b[0;34mf\"{not_found} not in index\"\u001b[0m\u001b[0;34m)\u001b[0m\u001b[0;34m\u001b[0m\u001b[0;34m\u001b[0m\u001b[0m\n\u001b[0m\u001b[1;32m   1378\u001b[0m \u001b[0;34m\u001b[0m\u001b[0m\n\u001b[1;32m   1379\u001b[0m \u001b[0;34m\u001b[0m\u001b[0m\n",
      "\u001b[0;31mKeyError\u001b[0m: \"['type'] not in index\""
     ]
    }
   ],
   "source": [
    "scaler.fit(data_train_ft[features])\n",
    "\n",
    "train_scaled_ftrs = scaler.transform(data_train_ft[features])\n",
    "\n",
    "# transform validation features\n",
    "test_scaled_ftrs = scaler.transform(data_test_df[features])\n",
    "\n",
    "fit = final_pipeline.fit(train_scaled_ftrs, data_train_tgt)\n",
    "predictions = fit.predict(test_scaled_ftrs)\n",
    "predictions = predictions.astype(int)\n",
    "print(predictions)\n",
    "\n",
    "def writeSubmission(predictions):\n",
    "   i=6751\n",
    "   submissionList = []\n",
    "   for prediction in predictions:\n",
    "       submissionList.append([str(i), str(prediction)])\n",
    "       i+=1\n",
    "   with open('submission.csv', 'w', newline='') as submission:\n",
    "       writer = csv.writer(submission)\n",
    "       writer.writerow(['id', 'Target'])\n",
    "       for row in submissionList:\n",
    "           writer.writerow(row)\n",
    "\n",
    "writeSubmission(predictions)"
   ]
  }
 ],
 "metadata": {
  "kernelspec": {
   "display_name": "Python3",
   "language": "python",
   "name": "python3"
  },
  "language_info": {
   "codemirror_mode": {
    "name": "ipython",
    "version": 3
   },
   "file_extension": ".py",
   "mimetype": "text/x-python",
   "name": "python",
   "nbconvert_exporter": "python",
   "pygments_lexer": "ipython3",
   "version": "3.9.7"
  }
 },
 "nbformat": 4,
 "nbformat_minor": 2
}
